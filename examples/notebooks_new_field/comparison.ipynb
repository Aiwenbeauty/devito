{
 "cells": [
  {
   "cell_type": "markdown",
   "metadata": {
    "collapsed": true
   },
   "source": [
    "## 5 - Comparison of the several methods to reduce wave reflections "
   ]
  },
  {
   "cell_type": "markdown",
   "metadata": {},
   "source": [
    "# 5.1 - The comparison framework\n",
    "\n",
    "In this final notebook we present comparisons of the methods presented in notebooks <a href=\"introduction.ipynb\">Introduction to Acoustic Problem</a>, <a href=\"damping.ipynb\">Damping</a>, <a href=\"pml.ipynb\">PML</a> e <a href=\"habc.ipynb\">HABC</a>. \n",
    "\n",
    "The comparisons are based on the *Standard Test* employed in all notebooks. As a reference solution, that will be considered as the \"correct\" solution when measuring errors, we take a solution computed on a domain twice as deep (we extend the domain in the bottom part, extending the velocity field with constant values, equal to the values the field has at the original bottom). The new depth in the reference run is $19840 m = 19,84Km$ and the domain is also wider, we employ the full domain (with 70km width). For running the reference run we use PML boundary conditions (30 grid points in the extension zone). The comparisons are made only in the domain of the  *Standard Test*. Due to the extended domain of the\n",
    "reference run, we should not expect to see spurious reflections in its results in the time of simulation.  We will\n",
    "make comparison of the wave displacements as well as of the shot records in the receivers. The methos are referred as:\n",
    "\n",
    "- Reference: Reference solution generated with PML and an extended domain.\n",
    "- Non-Absorbing: Solution generated with the proposed method on the notebook <a href=\"introducao.ipynb\">Introduction to Acoustic Problem</a>.\n",
    "- Damping: Solution generated with the proposed method on the notebook <a href=\"damping.ipynb\">Damping</a>.\n",
    "- PML: Solution generated with the proposed method on the notebook <a href=\"pml.ipynb\">PML</a>.\n",
    "- HABC A1: Solution generated with the proposed method on the notebook <a href=\"habc.ipynb\">HABC</a> with *habctype=1* and *habcw=2*, that is, A1 with non-linear weights.\n",
    "- HABC A2: Solution generated with the proposed method on the notebook <a href=\"habc.ipynb\">HABC</a> with *habctype=2* and *habcw=2*, that is, A2 with non-linear weights.\n",
    "- HABC Higdon: Solution generated with the proposed method on the notebook <a href=\"habc.ipynb\">HABC</a> with *habctype=3* and *habcw=2*, that is, Higdon with non-linear weights."
   ]
  },
  {
   "cell_type": "markdown",
   "metadata": {},
   "source": [
    "# 5.2 - Visual Analysis - Reflections on Boundaries\n",
    "\n",
    "The first analysis presented regards the reflections on the bottom of the domain $\\Omega$. We choose the time $T\\approx 3.56 $ in which we have the first significant iteration of the wavefront with the boundary. We can see that the reference results show the wavefront leaving the domain (entering in the extended domain) with no\n",
    "apparent reflection of the wave. \n",
    "\n",
    "The Non-Absorbing solution (with pure Dirichlet null conditions) shows a total reflection of the wavefront. Among the methods presented, Damping has the lowest absorption power, followed by HABC A1. The methods PML, HABC A2 and HABC Higdon show, in a visual analysis, a much better absorption capacity.\n",
    "\n",
    "We show the reference solution and differences with respect to it of the solutions obtained with the considered schemes in the figure below.\n",
    "\n",
    "<img src='figures_comparison/plot1.png' width=800 height=800>"
   ]
  },
  {
   "cell_type": "markdown",
   "metadata": {},
   "source": [
    "# 5.3 - Quantitative Analysis - Maximum Relative Error of the displacement over the Simulation time\n",
    "\n",
    "We have compared the maximum value of the relative error (with respect to the reference solution) of the displacement along the simulation. In this case PML lead to results at least as good as those of HABC A1, HABC A2 and HABC Higdon. Damping is clearly worse. In all graphics the results with PML are included, which makes easier to compare the other schemes against it.\n",
    "\n",
    "<img src='figures_comparison/plot2.png' width=800 height=800>"
   ]
  },
  {
   "cell_type": "markdown",
   "metadata": {},
   "source": [
    "# 5.4 - Quantitative Analysis - Maximum Relative Error at the Receivers during  the Simulation\n",
    "\n",
    "We now present the maximum relative errors computed at the receivers throughout the simulation. We see that PML, HABC A2 and HABC Higdon perform well, leading to results as good or even better than HABC A1. PML's results are again included in all graphics.\n",
    "\n",
    "<img src='figures_comparison/plot3.png' width=800 height=800>"
   ]
  },
  {
   "cell_type": "markdown",
   "metadata": {},
   "source": [
    "# 5.8 - Conclusions\n",
    "\n",
    "Based on the comparisons we carried out, we conclude that\n",
    "\n",
    "- The most effective methods in reducing the spurious reflections are PML and HABC with Higdon and A2. Their results in terms of accuracy (with respect to a reference solution) are similar, making these methods quite interesting for applications. Notice that PML is very popular, but the Hybrid methods offer an interesting alternative to it. Which one to choose will depend on the computational performance of the methods on a given platform. In this sense, the Devito implementations could be of great help to have optimized codes, including their parallelization, with no extra effort, besides getting portability among different computer platforms.\n",
    "\n",
    "- Schemes as Damping or A1, although simpler and potentially cheaper, are not so effective in reducing reflections, what make their pratical use somewhat more limited."
   ]
  }
 ],
 "metadata": {
  "hide_input": false,
  "kernelspec": {
   "display_name": "Python 3",
   "language": "python",
   "name": "python3"
  },
  "language_info": {
   "codemirror_mode": {
    "name": "ipython",
    "version": 3
   },
   "file_extension": ".py",
   "mimetype": "text/x-python",
   "name": "python",
   "nbconvert_exporter": "python",
   "pygments_lexer": "ipython3",
   "version": "3.8.2"
  },
  "latex_envs": {
   "LaTeX_envs_menu_present": true,
   "autoclose": false,
   "autocomplete": true,
   "bibliofile": "biblio.bib",
   "cite_by": "apalike",
   "current_citInitial": 1,
   "eqLabelWithNumbers": true,
   "eqNumInitial": 1,
   "hotkeys": {
    "equation": "Ctrl-E",
    "itemize": "Ctrl-I"
   },
   "labels_anchors": false,
   "latex_user_defs": false,
   "report_style_numbering": false,
   "user_envs_cfg": false
  },
  "widgets": {
   "state": {},
   "version": "1.1.2"
  }
 },
 "nbformat": 4,
 "nbformat_minor": 1
}
