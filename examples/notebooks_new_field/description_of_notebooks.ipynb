{
 "cells": [
  {
   "cell_type": "markdown",
   "metadata": {
    "collapsed": true
   },
   "source": [
    "# Project: Software Technologies for Modeling and Inversion - (at RCGI)\n",
    "\n",
    "#  Devito Notebooks on Absorbing boundary conditions for the acoustic wave equation  - Applications in seismic problems.\n",
    "\n",
    "# Authors: Felipe A. G. Silva, Saulo R. M. Barros and Pedro S. Peixoto\n",
    "   (felipe.augusto.guedes@gmail.com, saulo@ime.usp.br, pedrosp@ime.usp.br)\n",
    "   \n",
    "# University of Sao Paulo\n",
    "# Institute of Mathematics and Statistics - Applied Mathematics Department"
   ]
  },
  {
   "cell_type": "markdown",
   "metadata": {},
   "source": [
    "The objective of these notebooks is to present several schemes which are designed to reduce artificial reflections on boundaries in the numerical solution\n",
    " of the acoustic wave equation with finite differences. We consider several\n",
    "methods, covering absorbing boundary conditions and absorbing boundary layers.\n",
    "Among the schemes, we have implemented:\n",
    "- Clayton's A1 and A2 boundary conditions;\n",
    "- Higdon second order boundary conditions;\n",
    "- Sochaki's type of Damping boundary layer;\n",
    "- Perfectly Matched Layer (PML);\n",
    "- Hybrid Absorbing Boundary Conditions (HABC);\n",
    "\n",
    "The computational implementation of the methods above is done within the\n",
    "framework of <a href=\"https://www.devitoproject.org/\">Devito</a>, which is aimed to produce highly optimized code for finite differences discretizations, generated from  high level symbolic problem definitions.\n",
    " Devito presents a work structure in Python and generates code  in C ++, which can be taylored for high performance on different computational platforms. The notebooks are organized as follows:\n",
    "\n",
    "- <a href=\"introduction.ipynb\">1. Introduction and description of the acoustic problem;</a>\n",
    "- <a href=\"damping.ipynb\">2. Implementation of Sochaki's damping;</a>\n",
    "- <a href=\"pml.ipynb\">3. PML implementation;</a>\n",
    "- <a href=\"habc.ipynb\">4. HABC (Hybrid absorbing boundary conditions. These encompass also the absorbing boundary conditions A1, A2 and Higdon).;</a>\n",
    "- <a href=\"comparison.ipynb\">5. Comparisons of the schemes;</a>"
   ]
  },
  {
   "cell_type": "markdown",
   "metadata": {},
   "source": [
    "The notebooks bring a theoretical description of the methods together with the Devito implementation, which can be used for  the simulations of interest. We choose a reference problem, described in the notebook <a href=\"introduction.ipynb\">Introduction to Acoustic Problem</a>. The spatial and temporal discretizations used throughout the notebooks are also presented in this introductory notebook, together with other relevant concepts to be used overall. Therefore, one should first assimilate the contents of this notebook. \n",
    "\n",
    "In the remaining notebooks, we incrementally describe several numerical techniques to reduce artificial boundary reflections. It is better to follow the order of the notebooks, since concepts are used afterward. We include simulations demonstrating the use of the methods. By changing some parameters, the user would be able to carry out \n",
    "several tests. The final notebook bring comparisons and some conclusions about the presented schemes."
   ]
  }
 ],
 "metadata": {
  "hide_input": false,
  "kernelspec": {
   "display_name": "Python 3",
   "language": "python",
   "name": "python3"
  },
  "language_info": {
   "codemirror_mode": {
    "name": "ipython",
    "version": 3
   },
   "file_extension": ".py",
   "mimetype": "text/x-python",
   "name": "python",
   "nbconvert_exporter": "python",
   "pygments_lexer": "ipython3",
   "version": "3.7.5"
  },
  "latex_envs": {
   "LaTeX_envs_menu_present": true,
   "autoclose": false,
   "autocomplete": true,
   "bibliofile": "biblio.bib",
   "cite_by": "apalike",
   "current_citInitial": 1,
   "eqLabelWithNumbers": true,
   "eqNumInitial": 1,
   "hotkeys": {
    "equation": "Ctrl-E",
    "itemize": "Ctrl-I"
   },
   "labels_anchors": false,
   "latex_user_defs": false,
   "report_style_numbering": false,
   "user_envs_cfg": false
  },
  "widgets": {
   "state": {},
   "version": "1.1.2"
  }
 },
 "nbformat": 4,
 "nbformat_minor": 1
}
