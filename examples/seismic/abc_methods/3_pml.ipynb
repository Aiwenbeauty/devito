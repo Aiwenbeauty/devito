{
 "cells": [
  {
   "cell_type": "markdown",
   "metadata": {
    "collapsed": true
   },
   "source": [
    "# 3 - PML"
   ]
  },
  {
   "cell_type": "markdown",
   "metadata": {},
   "source": [
    "# 3.1 - Introduction\n",
    "\n",
    "In this notebook we describe the *Perfectly Matched Layer* method, originally proposed by Berenger for electromagnetic waves, a scheme also employing an absorbing layer to reduce the wave reflections coming from the computational boundaries. This is one of the most efficient schemes for this purpose. The formulation that we present here, designed for the wave equation in the form of a second order equation (instead of its formulation as a first order system), is the one proposed By Grote and Sim. \n",
    "\n",
    "We will use all the previous set ups employed in the notebooks <a href=\"1_introduction.ipynb\">Introduction to Acoustic Problem</a> and <a href=\"2_damping.ipynb\">Damping</a>, detailling only the new features specific for the\n",
    "PML method."
   ]
  },
  {
   "cell_type": "markdown",
   "metadata": {},
   "source": [
    "# 3.2 - Acoustic Problem with PML\n",
    "\n",
    "We again use an extended spatial domain $\\Omega=\\left[x_{I}-L_{x},x_{F}+L_{x}\\right] \\times\\left[z_{I},z_{F}+L_{z}\\right]$, with an absorption region as depicted in blue in the figure bellow.\n",
    "In the PML scheme, two auxiliary functions are included, which will provide the adequate damping of the wave reflections. The design of the method is such that it would ideally suppress all the reflections in a continuous setting, but since we employ a finite difference discretization some reflections remain, although strongly attenuated.\n",
    "\n",
    "<img src='domain2.png' width=500>\n",
    "\n",
    "The set of equations for the acoustic wave equaation with PML, including the auxiliary functions, is given by:\n",
    "\n",
    "\\begin{eqnarray}\n",
    "        \\frac{\\partial^2 u(x,z,t)}{\\partial t^2}\n",
    "        + (\\zeta_1(x,z)+\\zeta_2(x,z))\\frac{\\partial u(x,z,t)}{\\partial t}\n",
    "\t+ \\zeta_1(x,z) \\zeta_2(x,z) u(x,z,t)& = & \\\\\n",
    "\t c^2(x,z)\\Delta u(x,z,t) \n",
    "\t+\\frac{\\partial \\phi_1(x,z,t)}{\\partial x}+ \n",
    "\t\\frac{\\partial \\phi_2(x,z,t)}{\\partial z}+  f(x,z,t) & &\n",
    "\\end{eqnarray}\n",
    "\n",
    "\\begin{equation}\n",
    "        \\frac{\\partial \\phi_1(x,z,t)}{\\partial t} =\n",
    "        - \\zeta_1(x,z)\\phi_1(x,z,t)+c^2(x,z)(\\zeta_2(x,z)-\\zeta_1(x,z))\n",
    "        \\frac{\\partial u(x,z,t)}{\\partial x}\n",
    "\\end{equation}\n",
    "\n",
    "\\begin{equation}\n",
    "        \\frac{\\partial \\phi_2(x,z,t)}{\\partial t} =\n",
    "        - \\zeta_2(x,z)\\phi_2(x,z,t)+c^2(x,z)(\\zeta_1(x,z)-\\zeta_2(x,z))\n",
    "        \\frac{\\partial u(x,z,t)}{\\partial y}\n",
    "\\end{equation}\n",
    "\n",
    "where $u(x,z,t):D\\rightarrow \\mathbb{R}$ is the wave displacement,  $f(x,z,t)$ is the source term, $c(x,z)$ is the wave speed and $\\phi_{1}(x,z)$ and $\\phi_{2}(x,z)$ are the auxiliary variables, which will be non zero only in the absorption region. The damping functions $\\zeta_1(x,z)$ and $\\zeta_2(x,z)$ will be defined as in the Damping notebook. The initial and outer boundary conditions for the displacement $u$ are the same as in the previous notebooks. The auxiliary functions will also be kept equal to zero in all the outer boundary of\n",
    "$\\Omega$. The Ricker source term is defined as before.\n"
   ]
  },
  {
   "cell_type": "markdown",
   "metadata": {},
   "source": [
    "# 3.3 - Finite Difference Operators and Discretization of Spatial and Temporal Domains\n",
    "\n",
    "We employ the same methods as in the previous notebooks."
   ]
  },
  {
   "cell_type": "markdown",
   "metadata": {},
   "source": [
    "# 3.4 - *Staggered* e *non-staggered* variables\n",
    "\n",
    "In the discretization with PML we will use staggering of some variables, which is a convenient way for the centered discretization of the partial derivatives of these variables. \n",
    "\n",
    "The staggered spatial domain is $\\Omega^{x,y}_\\Delta=\\{(x_{i+1/2},z_{j+1/2}, i=0,\\cdots,nx-1,\\ j=0,\\cdots,nz-1\\}, \\mbox{ with } x_{i+1/2}=(i+\\frac{1}{2})\\Delta x \\mbox{ and } z_{j+1/2}=(j+\\frac{1}{2})\\Delta z$. Some variables will also be staggered in time, being defined\n",
    "at intermediary time instantes $t_{k+1/2}=t_k+\\Delta t$.\n",
    "\n",
    "\n",
    "In the formulation of PML that is described here we will define the variables as follows:\n",
    "\n",
    "- The variable $u(x,z,t)$ is a *non-staggered* variable;\n",
    "- The variables $\\phi_{1}(x,z,t)$ and $\\phi_{2}(x,z,t)$ are *staggered* variables;\n",
    "- The functions $\\zeta_{1}(x,z)$, $\\zeta_{2}(x,z)$, $c(x,z)$ and $f(x,z,t)$ will be used as *staggered* or *non-staggered* variables depending on the equation in which they are required.\n",
    "\n",
    "The direct implication of *staggered* and *non-staggered* variables appearing in the same equation is that:\n",
    "\n",
    "- When updating $u(x,z,t)$ we employ averages of neighboring values of $\\phi_{1}(x,z,t)$ and $\\phi_{2}(x,z,t)$ in order to have them on the non-staggered grid \n",
    "\n",
    "- When updating $\\phi_{1}(x,z,t)$ and $\\phi_{2}(x,z,t)$ we use averages of neighboring values of $u(x,z,t)$ to define it on the staggered grid.\n",
    "\n",
    "The calculation of these averages will be explicit when we write the equations in the Devito code."
   ]
  },
  {
   "cell_type": "markdown",
   "metadata": {},
   "source": [
    "# 3.5 - Standard Problem\n",
    "\n",
    "Redeeming the Standard Problem definitions discussed on the notebook <a href=\"1_introduction.ipynb\">Introduction to Acoustic Problem</a> we have that:\n",
    "\n",
    "- $x_{I}$ =  0.0 Km;\n",
    "- $x_{F}$ =  1.0 Km = 1000 m;\n",
    "- $z_{I}$ =  0.0 Km;\n",
    "- $z_{F}$ =  1.0 Km = 1000 m;\n",
    "\n",
    "The spatial discretization parameters are given by:\n",
    "- $\\Delta x$ = 0.01 km = 10m;\n",
    "- $\\Delta z$ = 0.01 km = 1-m;\n",
    "\n",
    "Let's consider a $I$ the time domain with the following limitations:\n",
    "\n",
    "- $t_{I}$ = 0 s = 0 ms;\n",
    "- $t_{F}$ = 1 s = 1000 ms;\n",
    "\n",
    "The temporal discretization parameters are given by:\n",
    "\n",
    "- $\\Delta t$ $\\approx$ 0.0016 s = 1.6 ms;\n",
    "- $NT$ = 621.\n",
    "\n",
    "The source term, velocity model and positioning of receivers will be as in the previous notebooks."
   ]
  },
  {
   "cell_type": "markdown",
   "metadata": {},
   "source": [
    "# 3.6 - Damping Functions\n",
    "\n",
    "\n",
    "\n",
    "We choose the pair of functions $\\zeta_{1}(x,z)$ and $\\zeta_{2}(x,z)$ as in the  <a href=\"2_damping.ipynb\">Damping</a> notebook. They will act in the directions $x$ and $z$, respectively."
   ]
  },
  {
   "cell_type": "markdown",
   "metadata": {},
   "source": [
    "# 3.7 - Numerical Simulations\n",
    "\n",
    "For the numerical simulations of this notebook we use several parts the notebook codes <a href=\"2_damping.ipynb\">Damping</a>. We will highlight only the significant changes and comment on the most relevant operations, since the computational structure of the acoustic equation with PML is very similar to the case of the acoustic equation with Damping.\n",
    "\n",
    "We import the following Python and Devito packages:"
   ]
  },
  {
   "cell_type": "code",
   "execution_count": 1,
   "metadata": {},
   "outputs": [],
   "source": [
    "import numpy                   as np\n",
    "import matplotlib.pyplot       as plot\n",
    "import math                    as mt\n",
    "import matplotlib.ticker       as mticker    \n",
    "from   mpl_toolkits.axes_grid1 import make_axes_locatable\n",
    "from   matplotlib              import cm\n",
    "import time                    as tm\n",
    "from   devito import *\n",
    "%matplotlib inline"
   ]
  },
  {
   "cell_type": "markdown",
   "metadata": {},
   "source": [
    "From Devito's library of examples we import the following structures:"
   ]
  },
  {
   "cell_type": "code",
   "execution_count": 2,
   "metadata": {},
   "outputs": [],
   "source": [
    "from   examples.seismic        import TimeAxis\n",
    "from   examples.seismic        import RickerSource\n",
    "from   examples.seismic        import Receiver"
   ]
  },
  {
   "cell_type": "markdown",
   "metadata": {},
   "source": [
    "The mesh parameters that we choose define the domain $\\Omega_{0}$ plus the absorption region. For this, we use the following data:"
   ]
  },
  {
   "cell_type": "code",
   "execution_count": 3,
   "metadata": {},
   "outputs": [],
   "source": [
    "nptx   =  101\n",
    "nptz   =  101\n",
    "x0     =  0.\n",
    "x1     =  1000. \n",
    "compx  =  x1-x0\n",
    "z0     =  0.\n",
    "z1     =  1000.\n",
    "compz  =  z1-z0;\n",
    "hxv    =  (x1-x0)/(nptx-1)\n",
    "hzv    =  (z1-z0)/(nptz-1)"
   ]
  },
  {
   "cell_type": "markdown",
   "metadata": {},
   "source": [
    "The number of points of the absorption layer in the directions $x$ and $z$ are given, respectively, by:"
   ]
  },
  {
   "cell_type": "code",
   "execution_count": 4,
   "metadata": {},
   "outputs": [],
   "source": [
    "npmlx  = 20\n",
    "npmlz  = 20"
   ]
  },
  {
   "cell_type": "markdown",
   "metadata": {},
   "source": [
    "The lengths $L_{x}$ and $L_{z}$ are given, respectively, by:"
   ]
  },
  {
   "cell_type": "code",
   "execution_count": 5,
   "metadata": {},
   "outputs": [],
   "source": [
    "lx = npmlx*hxv\n",
    "lz = npmlz*hzv"
   ]
  },
  {
   "cell_type": "markdown",
   "metadata": {},
   "source": [
    "We define the *grid*:"
   ]
  },
  {
   "cell_type": "code",
   "execution_count": 6,
   "metadata": {},
   "outputs": [],
   "source": [
    "nptx   =  nptx + 2*npmlx\n",
    "nptz   =  nptz + 1*npmlz\n",
    "x0     =  x0 - hxv*npmlx\n",
    "x1     =  x1 + hxv*npmlx\n",
    "compx  =  x1-x0\n",
    "z0     =  z0\n",
    "z1     =  z1 + hzv*npmlz\n",
    "compz  =  z1-z0\n",
    "origin  = (x0,z0)\n",
    "extent  = (compx,compz)\n",
    "shape   = (nptx,nptz)\n",
    "spacing = (hxv,hzv)"
   ]
  },
  {
   "cell_type": "markdown",
   "metadata": {},
   "source": [
    "As in the case of the Damping acoustic equation, we can here split the computations in the two subdomains:\n",
    "\n",
    "- In the blue region:\n",
    "\n",
    "\\begin{eqnarray}\n",
    "        \\frac{\\partial^2 u(x,z,t)}{\\partial t^2}\n",
    "        + (\\zeta_1(x,z)+\\zeta_2(x,z))\\frac{\\partial u(x,z,t)}{\\partial t}\n",
    "\t+ \\zeta_1(x,z) \\zeta_2(x,z) u(x,z,t)& = & \\\\\n",
    "\t c^2(x,z)\\Delta u(x,z,t) \n",
    "\t+\\frac{\\partial \\phi_1(x,z,t)}{\\partial x}+ \n",
    "\t\\frac{\\partial \\phi_2(x,z,t)}{\\partial z}+  f(x,z,t) & &\n",
    "\\end{eqnarray}\n",
    "\n",
    "\\begin{equation}\n",
    "        \\frac{\\partial \\phi_1(x,z,t)}{\\partial t} =\n",
    "        - \\zeta_1(x,z)\\phi_1(x,z,t)+c^2(x,z)(\\zeta_2(x,z)-\\zeta_1(x,z))\n",
    "        \\frac{\\partial u(x,z,t)}{\\partial x}\n",
    "\\end{equation}\n",
    "\n",
    "\\begin{equation}\n",
    "        \\frac{\\partial \\phi_2(x,z,t)}{\\partial t} =\n",
    "        - \\zeta_2(x,z)\\phi_2(x,z,t)+c^2(x,z)(\\zeta_1(x,z)-\\zeta_2(x,z))\n",
    "        \\frac{\\partial u(x,z,t)}{\\partial y}\n",
    "\\end{equation}\n",
    "\n",
    "- In the white region:\n",
    "\n",
    "\\begin{equation}\n",
    "u(x,z,t)_{tt}-c^2(x,z)\\Delta(u(x,z,t))=c^2(x,z)f(x,z,t).\n",
    "\\end{equation}\n",
    "\n",
    "We use the structure of the *subdomains* to represent the white region and the blue region.\n",
    "\n",
    "First, we define the white region, naming it as *d0"
   ]
  },
  {
   "cell_type": "code",
   "execution_count": 7,
   "metadata": {},
   "outputs": [],
   "source": [
    "class d0domain(SubDomain):\n",
    "    name = 'd0'\n",
    "    def define(self, dimensions):\n",
    "        x, z = dimensions\n",
    "        return {x: ('middle', npmlx, npmlx), z: ('middle', 0, npmlz)}\n",
    "d0_domain = d0domain()"
   ]
  },
  {
   "cell_type": "markdown",
   "metadata": {},
   "source": [
    "The blue region is the union of 3 subdomains:\n"
   ]
  },
  {
   "cell_type": "code",
   "execution_count": 8,
   "metadata": {},
   "outputs": [],
   "source": [
    "class d1domain(SubDomain):\n",
    "    name = 'd1'\n",
    "    def define(self, dimensions):\n",
    "        x, z = dimensions\n",
    "        return {x: ('left',npmlx), z: z}\n",
    "d1_domain = d1domain()\n",
    "\n",
    "class d2domain(SubDomain):\n",
    "    name = 'd2'\n",
    "    def define(self, dimensions):\n",
    "        x, z = dimensions\n",
    "        return {x: ('right',npmlx), z: z}\n",
    "d2_domain = d2domain()\n",
    "\n",
    "class d3domain(SubDomain):\n",
    "    name = 'd3'\n",
    "    def define(self, dimensions):\n",
    "        x, z = dimensions\n",
    "        return {x: ('middle', npmlx, npmlx), z: ('right',npmlz)}\n",
    "d3_domain = d3domain()"
   ]
  },
  {
   "cell_type": "markdown",
   "metadata": {},
   "source": [
    "The figure below represents the division of domains that we did previously:\n",
    "\n",
    "<img src='domain3.png' width=500>\n",
    "\n",
    "The *spatial grid* is then defined:"
   ]
  },
  {
   "cell_type": "code",
   "execution_count": 9,
   "metadata": {},
   "outputs": [],
   "source": [
    "grid = Grid(origin=origin, extent=extent, shape=shape, subdomains=(d0_domain,d1_domain,d2_domain,d3_domain), dtype=np.float64)"
   ]
  },
  {
   "cell_type": "markdown",
   "metadata": {},
   "source": [
    "The velocity field is needed in both staggered and non-staggered grids. As before, we read the file and interpolate it to the non-staggered grid. From these values we interpolate to the staggered grid."
   ]
  },
  {
   "cell_type": "code",
   "execution_count": 10,
   "metadata": {},
   "outputs": [],
   "source": [
    "v0 = np.zeros((nptx,nptz))                     \n",
    "p0 = 0    \n",
    "p1 = int((1/2)*nptz)\n",
    "p2 = nptz  \n",
    "v0[0:nptx,p0:p1] = 1.5\n",
    "v0[0:nptx,p1:p2] = 2.5\n",
    "\n",
    "v1 = np.zeros((nptx-1,nptz-1))\n",
    "p0 = 0    \n",
    "p1 = int((1/2)*(nptz-1))\n",
    "p2 = nptz-1  \n",
    "v1[0:nptx-1,p0:p1] = 1.5\n",
    "v1[0:nptx-1,p1:p2] = 2.5"
   ]
  },
  {
   "cell_type": "markdown",
   "metadata": {},
   "source": [
    "We then define the temporal spacings and grid:"
   ]
  },
  {
   "cell_type": "code",
   "execution_count": 11,
   "metadata": {},
   "outputs": [],
   "source": [
    "t0    = 0.\n",
    "tn    = 1000.   \n",
    "CFL   = 0.4\n",
    "vmax  = np.amax(v0) \n",
    "dtmax = np.float64((min(hxv,hzv)*CFL)/(vmax))\n",
    "ntmax = int((tn-t0)/dtmax)+1\n",
    "dt0   = np.float64((tn-t0)/ntmax)"
   ]
  },
  {
   "cell_type": "code",
   "execution_count": 12,
   "metadata": {},
   "outputs": [],
   "source": [
    "time_range = TimeAxis(start=t0,stop=tn,num=ntmax+1)\n",
    "nt         = time_range.num - 1"
   ]
  },
  {
   "cell_type": "markdown",
   "metadata": {},
   "source": [
    "The symbolic values associated with the spatial and temporal grids that are used in the composition of the equations are given by:"
   ]
  },
  {
   "cell_type": "code",
   "execution_count": 13,
   "metadata": {},
   "outputs": [],
   "source": [
    "(hx,hz) = grid.spacing_map  \n",
    "(x, z)  = grid.dimensions     \n",
    "t       = grid.stepping_dim\n",
    "dt      = grid.stepping_dim.spacing"
   ]
  },
  {
   "cell_type": "markdown",
   "metadata": {},
   "source": [
    "We set the parameters for the Ricker source:  "
   ]
  },
  {
   "cell_type": "code",
   "execution_count": 14,
   "metadata": {},
   "outputs": [],
   "source": [
    "f0     = 0.01\n",
    "nfonte = 1\n",
    "xposf  = 0.5*(compx-2*npmlx*hxv)\n",
    "zposf  = hzv"
   ]
  },
  {
   "cell_type": "code",
   "execution_count": 15,
   "metadata": {},
   "outputs": [],
   "source": [
    "src = RickerSource(name='src',grid=grid,f0=f0,npoint=nfonte,time_range=time_range,staggered=NODE,dtype=np.float64)\n",
    "src.coordinates.data[:, 0] = xposf\n",
    "src.coordinates.data[:, 1] = zposf"
   ]
  },
  {
   "cell_type": "markdown",
   "metadata": {},
   "source": [
    "and for the receivers:  "
   ]
  },
  {
   "cell_type": "code",
   "execution_count": 16,
   "metadata": {},
   "outputs": [],
   "source": [
    "nrec   = nptx\n",
    "nxpos  = np.linspace(x0,x1,nrec)\n",
    "nzpos  = hzv"
   ]
  },
  {
   "cell_type": "code",
   "execution_count": 17,
   "metadata": {},
   "outputs": [],
   "source": [
    "rec = Receiver(name='rec',grid=grid,npoint=nrec,time_range=time_range,staggered=NODE,dtype=np.float64)\n",
    "rec.coordinates.data[:, 0] = nxpos\n",
    "rec.coordinates.data[:, 1] = nzpos"
   ]
  },
  {
   "cell_type": "markdown",
   "metadata": {},
   "source": [
    "The displacement field *u* is allocated "
   ]
  },
  {
   "cell_type": "code",
   "execution_count": 18,
   "metadata": {},
   "outputs": [],
   "source": [
    "u = TimeFunction(name=\"u\",grid=grid,time_order=2,space_order=2,staggered=NODE,dtype=np.float64)"
   ]
  },
  {
   "cell_type": "markdown",
   "metadata": {},
   "source": [
    "The auxiliary functions $\\phi_{1}(x,z,t)$ and $\\phi_{2}(x,z,t)$ will be two fields of second order in time and space, which use points of type *staggered*. "
   ]
  },
  {
   "cell_type": "code",
   "execution_count": 19,
   "metadata": {},
   "outputs": [],
   "source": [
    "phi1 = TimeFunction(name=\"phi1\",grid=grid,time_order=2,space_order=2,staggered=(x,z),dtype=np.float64)\n",
    "phi2 = TimeFunction(name=\"phi2\",grid=grid,time_order=2,space_order=2,staggered=(x,z),dtype=np.float64)"
   ]
  },
  {
   "cell_type": "markdown",
   "metadata": {},
   "source": [
    "We set the velocity on the non-staggered grid"
   ]
  },
  {
   "cell_type": "code",
   "execution_count": 20,
   "metadata": {},
   "outputs": [],
   "source": [
    "vel0 = Function(name=\"vel0\",grid=grid,space_order=2,staggered=NODE,dtype=np.float64)\n",
    "vel0.data[:,:] = v0[:,:]"
   ]
  },
  {
   "cell_type": "markdown",
   "metadata": {},
   "source": [
    "and on the staggered one. Notice that the field has one less point in each direction."
   ]
  },
  {
   "cell_type": "code",
   "execution_count": 21,
   "metadata": {},
   "outputs": [],
   "source": [
    "vel1 = Function(name=\"vel1\", grid=grid,space_order=2,staggered=(x,z),dtype=np.float64)\n",
    "vel1.data[0:nptx-1,0:nptz-1] = v1"
   ]
  },
  {
   "cell_type": "markdown",
   "metadata": {},
   "source": [
    "Taking into account the dimension of the array *v1* and the dimension of the field *vel1* we will complete the line *nptx-1* with information from the line *nptx-2* and the column *nptz-1* with information from the column *nptz-2*, information from the *v1* array. This copy of information does not alter the properties of the *vel1* velocity field in view of its structure of constant profiles on the part. Copying information is done by the following sequence of commands:"
   ]
  },
  {
   "cell_type": "code",
   "execution_count": 22,
   "metadata": {},
   "outputs": [],
   "source": [
    "vel1.data[nptx-1,0:nptz-1] = vel1.data[nptx-2,0:nptz-1]\n",
    "vel1.data[0:nptx,nptz-1]   = vel1.data[0:nptx,nptz-2]"
   ]
  },
  {
   "cell_type": "markdown",
   "metadata": {},
   "source": [
    "We set the source term and receivers"
   ]
  },
  {
   "cell_type": "code",
   "execution_count": 23,
   "metadata": {},
   "outputs": [],
   "source": [
    "src_term = src.inject(field=u.forward,expr=src*dt**2*vel0**2)"
   ]
  },
  {
   "cell_type": "code",
   "execution_count": 24,
   "metadata": {},
   "outputs": [],
   "source": [
    "rec_term = rec.interpolate(expr=u)"
   ]
  },
  {
   "cell_type": "markdown",
   "metadata": {},
   "source": [
    "The next step is to create the structures that reproduce the functions $\\zeta_{1}(x,z)$ and $\\zeta_{2}(x,z)$ and then assign these functions to fields in *non-staggered* and *staggered* grids.\n",
    "\n",
    "We define the region $\\Omega_{0}$ by choosing the values of *x0pml* and *x1pml* in the direction $x$ and *z0pml* and *z1pml* in the direction $z$. These points satisfy the following relations with the lengths $L_{x}$ and $L_{z}$:\n",
    "\n",
    "- x0pml = x0 + $L_{x}$;\n",
    "- x1pml = x1 - $L_{x}$;\n",
    "- z0pml = z0;\n",
    "- z1pml = z1 - $L_{z}$;\n",
    "\n",
    "In terms of program variables, we have the following definitions:"
   ]
  },
  {
   "cell_type": "code",
   "execution_count": 25,
   "metadata": {},
   "outputs": [],
   "source": [
    "x0pml  = x0 + npmlx*hxv \n",
    "x1pml  = x1 - npmlx*hxv \n",
    "z0pml  = z0            \n",
    "z1pml  = z1 - npmlz*hzv "
   ]
  },
  {
   "cell_type": "markdown",
   "metadata": {},
   "source": [
    "Having set the boundaries of $\\Omega$, we create a function *fdamp*, which represents $\\zeta_{1}(x,z)$ (when $i=1$) and $\\zeta_{2}(x,z)$ (when $i=2$). "
   ]
  },
  {
   "cell_type": "code",
   "execution_count": 26,
   "metadata": {},
   "outputs": [],
   "source": [
    "def fdamp(x,z,i):\n",
    "    \n",
    "    quibar  = 0.05\n",
    "          \n",
    "    if(i==1):\n",
    "        a = np.where(x<=x0pml,(np.abs(x-x0pml)/lx),np.where(x>=x1pml,(np.abs(x-x1pml)/lx),0.))\n",
    "        fdamp = quibar*(a-(1./(2.*np.pi))*np.sin(2.*np.pi*a))\n",
    "    if(i==2):\n",
    "        a = np.where(z<=z0pml,(np.abs(z-z0pml)/lz),np.where(z>=z1pml,(np.abs(z-z1pml)/lz),0.))\n",
    "        fdamp = quibar*(a-(1./(2.*np.pi))*np.sin(2.*np.pi*a))\n",
    "      \n",
    "    return fdamp"
   ]
  },
  {
   "cell_type": "markdown",
   "metadata": {},
   "source": [
    "We created the damping function that represents $\\zeta_{1}(x,z)$ and $\\zeta_{2}(x,z)$. We now define arrays with the damping function values on grid points (staggered and non-staggered): c\n",
    "\n",
    "- The arrays *D01* and *D02* are associated with points of type *staggered* and represent the functions $\\zeta_{1}(x,z)$ and $\\zeta_{2}(x,z)$, respectively. \n",
    "\n",
    "- The arrays *D11* and *D12* are associated with points of type *non-staggered* and represent the functions $\\zeta_{1}(x,z)$ and $\\zeta_{2}(x,z)$, respectively. \n"
   ]
  },
  {
   "cell_type": "code",
   "execution_count": 27,
   "metadata": {},
   "outputs": [],
   "source": [
    "def generatemdamp():\n",
    "    \n",
    "    X0     = np.linspace(x0,x1,nptx)    \n",
    "    Z0     = np.linspace(z0,z1,nptz)\n",
    "    X0grid,Z0grid = np.meshgrid(X0,Z0)\n",
    "    X1   = np.linspace((x0+0.5*hxv),(x1-0.5*hxv),nptx-1)\n",
    "    Z1   = np.linspace((z0+0.5*hzv),(z1-0.5*hzv),nptz-1)\n",
    "    X1grid,Z1grid = np.meshgrid(X1,Z1)\n",
    "   \n",
    "    D01 = np.zeros((nptx,nptz))\n",
    "    D02 = np.zeros((nptx,nptz))\n",
    "    D11 = np.zeros((nptx,nptz))\n",
    "    D12 = np.zeros((nptx,nptz))\n",
    "    \n",
    "    D01 = np.transpose(fdamp(X0grid,Z0grid,1))\n",
    "    D02 = np.transpose(fdamp(X0grid,Z0grid,2))\n",
    "  \n",
    "    D11 = np.transpose(fdamp(X1grid,Z1grid,1))\n",
    "    D12 = np.transpose(fdamp(X1grid,Z1grid,2))\n",
    "    \n",
    "    return D01, D02, D11, D12"
   ]
  },
  {
   "cell_type": "code",
   "execution_count": 28,
   "metadata": {},
   "outputs": [],
   "source": [
    "D01, D02, D11, D12 = generatemdamp();"
   ]
  },
  {
   "cell_type": "markdown",
   "metadata": {},
   "source": [
    "As pointed out previously, the functions $\\zeta_{1}(x,z)$ and $\\zeta_{2}(x,z)$ define  damping in the directions $x$ and $z$ respectively. They will be identified  with the symbolic names of *dampx* and *dampz*, respectively.\n",
    "\n",
    "As damping acts on non-staggered and staggered grids, we will identify *dampx0* and *dampz0* as being damping on the non-staggered points grid. Similarly, we will identify *dampx1* and *dampz1* as being the damping on the staggered points grid."
   ]
  },
  {
   "cell_type": "code",
   "execution_count": 29,
   "metadata": {},
   "outputs": [],
   "source": [
    "dampx0 = Function(name=\"dampx0\", grid=grid,space_order=2,staggered=NODE ,dtype=np.float64)\n",
    "dampz0 = Function(name=\"dampz0\", grid=grid,space_order=2,staggered=NODE ,dtype=np.float64)\n",
    "dampx0.data[:,:] = D01\n",
    "dampz0.data[:,:] = D02"
   ]
  },
  {
   "cell_type": "code",
   "execution_count": 30,
   "metadata": {},
   "outputs": [],
   "source": [
    "dampx1 = Function(name=\"dampx1\", grid=grid,space_order=2,staggered=(x,z),dtype=np.float64)\n",
    "dampz1 = Function(name=\"dampz1\", grid=grid,space_order=2,staggered=(x,z),dtype=np.float64)\n",
    "dampx1.data[0:nptx-1,0:nptz-1] = D11\n",
    "dampz1.data[0:nptx-1,0:nptz-1] = D12"
   ]
  },
  {
   "cell_type": "markdown",
   "metadata": {},
   "source": [
    "In terms of dimensions, the arrays *D11* and *D12* have dimension $(nptx-1)\\times (nptz-1)$. As our grid has $nptx\\times nptz$ points, so we complete the line *nptx-1* with information from the line *nptx-2* and the column *nptz-1* with information from the column *nptz-2*, in fields *dampx1* and *dampz1* using the arrays *D11* and *D12*, respectively."
   ]
  },
  {
   "cell_type": "code",
   "execution_count": 31,
   "metadata": {},
   "outputs": [],
   "source": [
    "dampx1.data[nptx-1,0:nptz-1]   = dampx1.data[nptx-2,0:nptz-1]\n",
    "dampx1.data[0:nptx,nptz-1]     = dampx1.data[0:nptx,nptz-2]\n",
    "dampz1.data[nptx-1,0:nptz-1]   = dampz1.data[nptx-2,0:nptz-1]\n",
    "dampz1.data[0:nptx,nptz-1]     = dampz1.data[0:nptx,nptz-2]"
   ]
  },
  {
   "cell_type": "markdown",
   "metadata": {},
   "source": [
    "As we saw previously, the acoustic equation with PML has the formulations\n",
    "\n",
    "\n",
    " In the white (interior) region:\n",
    "\n",
    "- eq1 = u.dt2 - vel0 * vel0 * u.laplace;\n",
    "\n",
    " And in the blue (absorption) region:\n",
    "\n",
    "- eq2  = u.dt2 + (dampx0+dampz0) * u.dtc + (dampx0 * dampz0) * u - u.laplace * vel0 * vel0 + $\\bar{phi1}$[t,x,z] + $\\bar{phi2}$[t,x,z];\n",
    "\n",
    "- eq3 = phi1.dt + dampx1 * 0.5 * (phi1.forward+phi1) -(dampz1-dampx1) * $\\bar{u}$[t,x,z] * vel1 * vel1\n",
    "\n",
    "- eq4 = phi2.dt + dampz1 * 0.5 * (phi2.forward+phi2) -(dampx1-dampz1) * $\\bar{u}$[t,x,z] * vel1 * vel1\n",
    "\n",
    "In the equation *eq2* the term $\\bar{phi1}$[t,x,z] is given by following expression:\n",
    "\n",
    "- -(0.5/hx) * (phi1[t,x,z-1]+phi1[t,x,z]-phi1[t,x-1,z-1]-phi1[t,x-1,z]);\n",
    "\n",
    "And the term $\\bar{phi2}$[t,x,z] in the equation *eq2* is given by:\n",
    "\n",
    "-  -(0.5/hz) * (phi2[t,x-1,z]+phi2[t,x,z]-phi2[t,x-1,z-1]-phi2[t,x,z-1]);\n",
    "\n",
    "In the equation *eq3* the term $\\bar{u}$[t,x,z] is given by:\n",
    "\n",
    "- a1 = u[t+1,x+1,z] + u[t+1,x+1,z+1] - u[t+1,x,z] - u[t+1,x,z+1]; \n",
    "- a2 = u[t,x+1,z]   + u[t,x+1,z+1]   - u[t,x,z]   - u[t,x,z+1]; \n",
    "- $\\bar{u}$[t,x,z] = 0.5 * (0.5/hx) * (a1+a2);\n",
    "\n",
    "In the equation *eq4* the term $\\bar{u}$[t,x,z] is given by:\n",
    "\n",
    "- b1 = u[t+1,x,z+1] + u[t+1,x+1,z+1] - u[t+1,x,z] - u[t+1,x+1,z]; \n",
    "- b2 = u[t,x,z+1]   + u[t,x+1,z+1]   - u[t,x,z]   - u[t,x+1,z]; \n",
    "-  $\\bar{u}$[t,x,z] = 0.5 * (0.5/hz) * (b1+b2)\n",
    "\n",
    "Then, using the operator *Eq(eq)* and the equation in the format associated with Devito we create the *pdes* that represent the acoustic equations with PML without the external force term in the white and blue regions, respectively by:"
   ]
  },
  {
   "cell_type": "code",
   "execution_count": 32,
   "metadata": {},
   "outputs": [],
   "source": [
    "# White Region\n",
    "pde01   = Eq(u.dt2-u.laplace*vel0*vel0) \n",
    "\n",
    "# Blue Region\n",
    "pde02a  = u.dt2   + (dampx0+dampz0)*u.dtc + (dampx0*dampz0)*u - u.laplace*vel0*vel0 \n",
    "pde02b  = - (0.5/hx)*(phi1[t,x,z-1]+phi1[t,x,z]-phi1[t,x-1,z-1]-phi1[t,x-1,z])\n",
    "pde02c  = - (0.5/hz)*(phi2[t,x-1,z]+phi2[t,x,z]-phi2[t,x-1,z-1]-phi2[t,x,z-1])\n",
    "pde02   = Eq(pde02a + pde02b + pde02c)\n",
    "\n",
    "pde10 = phi1.dt + dampx1*0.5*(phi1.forward+phi1)\n",
    "a1    = u[t+1,x+1,z] + u[t+1,x+1,z+1] - u[t+1,x,z] - u[t+1,x,z+1] \n",
    "a2    = u[t,x+1,z]   + u[t,x+1,z+1]   - u[t,x,z]   - u[t,x,z+1] \n",
    "pde11 = -(dampz1-dampx1)*0.5*(0.5/hx)*(a1+a2)*vel1*vel1\n",
    "pde1  = Eq(pde10+pde11)\n",
    "                                                    \n",
    "pde20 = phi2.dt + dampz1*0.5*(phi2.forward+phi2) \n",
    "b1    = u[t+1,x,z+1] + u[t+1,x+1,z+1] - u[t+1,x,z] - u[t+1,x+1,z] \n",
    "b2    = u[t,x,z+1]   + u[t,x+1,z+1]   - u[t,x,z]   - u[t,x+1,z] \n",
    "pde21 = -(dampx1-dampz1)*0.5*(0.5/hz)*(b1+b2)*vel1*vel1\n",
    "pde2  = Eq(pde20+pde21)"
   ]
  },
  {
   "cell_type": "markdown",
   "metadata": {},
   "source": [
    "Now we define the *stencils* for each of the *pdes* that we created previously. The *pde01* is defined on *subdomain* *d0*. "
   ]
  },
  {
   "cell_type": "code",
   "execution_count": 33,
   "metadata": {},
   "outputs": [],
   "source": [
    "stencil01 =  Eq(u.forward,solve(pde01,u.forward) ,subdomain = grid.subdomains['d0'])"
   ]
  },
  {
   "cell_type": "markdown",
   "metadata": {},
   "source": [
    "The *pdes*: *pde02*, *pde1* and *pde2* are defined on the union of the subdomains *d1*, *d2* and *d3*. "
   ]
  },
  {
   "cell_type": "code",
   "execution_count": 34,
   "metadata": {},
   "outputs": [],
   "source": [
    "subds = ['d1','d2','d3']"
   ]
  },
  {
   "cell_type": "code",
   "execution_count": 35,
   "metadata": {},
   "outputs": [],
   "source": [
    "stencil02 = [Eq(u.forward,solve(pde02, u.forward),subdomain = grid.subdomains[subds[i]]) for i in range(0,len(subds))]\n",
    "stencil1 = [Eq(phi1.forward, solve(pde1,phi1.forward),subdomain = grid.subdomains[subds[i]]) for i in range(0,len(subds))]\n",
    "stencil2 = [Eq(phi2.forward, solve(pde2,phi2.forward),subdomain = grid.subdomains[subds[i]]) for i in range(0,len(subds))]"
   ]
  },
  {
   "cell_type": "markdown",
   "metadata": {},
   "source": [
    "The boundary conditions  are set"
   ]
  },
  {
   "cell_type": "code",
   "execution_count": 36,
   "metadata": {},
   "outputs": [],
   "source": [
    "bc  = [Eq(u[t+1,0,z],0.),Eq(u[t+1,nptx-1,z],0.),Eq(u[t+1,x,nptz-1],0.),Eq(u[t+1,x,0],u[t+1,x,1])]"
   ]
  },
  {
   "cell_type": "markdown",
   "metadata": {},
   "source": [
    "We then define the operator (*op*) that will join the acoustic equation, source term, boundary conditions and receivers.\n",
    "\n",
    "- 1. The acoustic wave equation in the *d0* region: *[stencil01];*\n",
    "- 2. The acoustic wave equation in the *d1*, *d2* and *d3* regions: *[stencil02];*\n",
    "- 3. Source term: *src_term;*\n",
    "- 4. Boundary Condition: *bc;*\n",
    "- 5. Auxiliary function $\\phi_{1}(x,z,t)$ in the *d1*, *d2* and *d3* regions: *[stencil1];*\n",
    "- 6. Auxiliary function $\\phi_{2}(x,z,t)$ in the *d1*, *d2* and *d3* regions: *[stencil2];*\n",
    "- 7. Receivers: *rec_term;*\n",
    "\n",
    "We then define the following *op*:"
   ]
  },
  {
   "cell_type": "code",
   "execution_count": 37,
   "metadata": {},
   "outputs": [],
   "source": [
    "op = Operator([stencil01,stencil02] + src_term + bc + [stencil1,stencil2] + rec_term,subs=grid.spacing_map)"
   ]
  },
  {
   "cell_type": "markdown",
   "metadata": {},
   "source": [
    "So that there are no residuals in the variables of interest, we reset the fields *u*, *phi1* and *phi2* as follows:"
   ]
  },
  {
   "cell_type": "code",
   "execution_count": 38,
   "metadata": {},
   "outputs": [],
   "source": [
    "u.data[:]     = 0.\n",
    "phi1.data[:]  = 0.\n",
    "phi2.data[:]  = 0."
   ]
  },
  {
   "cell_type": "markdown",
   "metadata": {},
   "source": [
    "We assign to *op* the number of time steps it must execute and the size of the time step in the local variables *time* and *dt*, respectively. This assignment is done as in <a href=\"1_introduction.ipynb\">Introduction to Acoustic Problem</a>, where we have the following attribution structure:"
   ]
  },
  {
   "cell_type": "code",
   "execution_count": 39,
   "metadata": {},
   "outputs": [
    {
     "name": "stderr",
     "output_type": "stream",
     "text": [
      "Operator `Kernel` run in 0.05 s\n"
     ]
    },
    {
     "name": "stdout",
     "output_type": "stream",
     "text": [
      "Elapsed (after compilation) = 0.3573596477508545\n"
     ]
    }
   ],
   "source": [
    "start = tm.time()\n",
    "op(time=nt,dt=dt0)\n",
    "end   = tm.time()\n",
    "print(\"Elapsed (after compilation) = %s\" % (end - start))"
   ]
  },
  {
   "cell_type": "markdown",
   "metadata": {},
   "source": [
    "We view the result of the displacement field at the end time using the *graph2d* routine given by:"
   ]
  },
  {
   "cell_type": "code",
   "execution_count": 40,
   "metadata": {},
   "outputs": [],
   "source": [
    "def graph2d(U):    \n",
    "    plot.figure()\n",
    "    plot.figure(figsize=(16,8))\n",
    "    fscale =  1/10**(3)\n",
    "    scale  = np.amax(U[npmlx:-npmlx,0:-npmlz])/50.\n",
    "    extent = [fscale*x0pml,fscale*x1pml,fscale*z1pml,fscale*z0pml]\n",
    "    fig = plot.imshow(np.transpose(U[npmlx:-npmlx,0:-npmlz]),vmin=-scale, vmax=scale, cmap=cm.gray, extent=extent)\n",
    "    plot.gca().xaxis.set_major_formatter(mticker.FormatStrFormatter('%.1f km'))\n",
    "    plot.gca().yaxis.set_major_formatter(mticker.FormatStrFormatter('%.1f km'))\n",
    "    plot.axis('equal')\n",
    "    plot.title('Map - Acoustic Problem PML Devito')\n",
    "    plot.grid()\n",
    "    ax = plot.gca()\n",
    "    divider = make_axes_locatable(ax)\n",
    "    cax = divider.append_axes(\"right\", size=\"5%\", pad=0.05)\n",
    "    cbar = plot.colorbar(fig, cax=cax, format='%.2e')\n",
    "    cbar.set_label('Displacement [km]')\n",
    "    plot.draw()\n",
    "    plot.show()"
   ]
  },
  {
   "cell_type": "code",
   "execution_count": 41,
   "metadata": {},
   "outputs": [
    {
     "data": {
      "text/plain": [
       "<Figure size 576x432 with 0 Axes>"
      ]
     },
     "metadata": {},
     "output_type": "display_data"
    },
    {
     "data": {
      "image/png": "[encoded data removed]",
      "text/plain": [
       "<Figure size 1152x576 with 2 Axes>"
      ]
     },
     "metadata": {
      "needs_background": "light"
     },
     "output_type": "display_data"
    }
   ],
   "source": [
    "graph2d(u.data[0,:,:])"
   ]
  },
  {
   "cell_type": "markdown",
   "metadata": {},
   "source": [
    "Realize that the solution obtained here has a reduction in the noises when we compared with the results displayed on the notebook <a href=\"./introducao/introducao.ipynb\">Introduction to Acoustic Problem</a>. We plot the result of the Receivers using the *graph2drec* routine."
   ]
  },
  {
   "cell_type": "code",
   "execution_count": 42,
   "metadata": {},
   "outputs": [],
   "source": [
    "def graph2drec(rec):    \n",
    "        plot.figure()\n",
    "        plot.figure(figsize=(16,8))\n",
    "        fscaled = 1/10**(3)\n",
    "        fscalet = 1/10**(3)\n",
    "        scale   = np.amax(rec[:,npmlx:-npmlx])/50.\n",
    "        extent  = [fscaled*x0pml,fscaled*x1pml, fscalet*tn, fscalet*t0]\n",
    "        fig = plot.imshow(rec[:,npmlx:-npmlx], vmin=-scale, vmax=scale, cmap=cm.gray, extent=extent)\n",
    "        plot.gca().xaxis.set_major_formatter(mticker.FormatStrFormatter('%.1f km'))\n",
    "        plot.gca().yaxis.set_major_formatter(mticker.FormatStrFormatter('%.1f s'))\n",
    "        plot.axis('equal')\n",
    "        plot.title('Receivers Signal Profile with PML - Devito')\n",
    "        ax = plot.gca()\n",
    "        divider = make_axes_locatable(ax)\n",
    "        cax = divider.append_axes(\"right\", size=\"5%\", pad=0.05)\n",
    "        cbar = plot.colorbar(fig, cax=cax, format='%.2e')\n",
    "        plot.show()"
   ]
  },
  {
   "cell_type": "code",
   "execution_count": 43,
   "metadata": {},
   "outputs": [
    {
     "data": {
      "text/plain": [
       "<Figure size 576x432 with 0 Axes>"
      ]
     },
     "metadata": {},
     "output_type": "display_data"
    },
    {
     "data": {
      "image/png": "[encoded data removed]",
      "text/plain": [
       "<Figure size 1152x576 with 2 Axes>"
      ]
     },
     "metadata": {
      "needs_background": "light"
     },
     "output_type": "display_data"
    }
   ],
   "source": [
    "graph2drec(rec.data)"
   ]
  },
  {
   "cell_type": "markdown",
   "metadata": {},
   "source": [
    "# 3.8 - Conclusions\n",
    "\n",
    "We conclude our small approach to the PML method applied to the Acoustic Problem, including simulations in the Devito environment for this problem. With this study we can see that:\n",
    "\n",
    "- When we use the PML strategy to reduce reflections at the end of the simulation, we observe a reduction in the amount of noise in our image when compared to the results of the notebook <a href=\"1_introduction.ipynb\">Introduction to Acoustic Problem</a>."
   ]
  },
  {
   "cell_type": "markdown",
   "metadata": {},
   "source": [
    "# 3.9 - References\n",
    "\n",
    "- Berenger, J.-P. (1994). \"A perfectly matched layer for the absorption of electromagnetic waves\", Journal of Computational Physics, 114(2), 185-200. DOI: 10.1006/jcph.1994.1159. <a href=\"https://www.sciencedirect.com/science/article/pii/S0021999184711594\">Reference Link.</a>\n",
    "\n",
    "- Grote, M. J. and Sim, I. (2010). \"Efficient PML for the wave equation\", arXiv preprint arXiv:1001.0319. <a href=\"https://arxiv.org/abs/1001.0319\">Reference Link.</a>"
   ]
  }
 ],
 "metadata": {
  "hide_input": false,
  "kernelspec": {
   "display_name": "Python 3",
   "language": "python",
   "name": "python3"
  },
  "language_info": {
   "codemirror_mode": {
    "name": "ipython",
    "version": 3
   },
   "file_extension": ".py",
   "mimetype": "text/x-python",
   "name": "python",
   "nbconvert_exporter": "python",
   "pygments_lexer": "ipython3",
   "version": "3.8.3"
  },
  "latex_envs": {
   "LaTeX_envs_menu_present": true,
   "autoclose": false,
   "autocomplete": true,
   "bibliofile": "biblio.bib",
   "cite_by": "apalike",
   "current_citInitial": 1,
   "eqLabelWithNumbers": true,
   "eqNumInitial": 1,
   "hotkeys": {
    "equation": "Ctrl-E",
    "itemize": "Ctrl-I"
   },
   "labels_anchors": false,
   "latex_user_defs": false,
   "report_style_numbering": false,
   "user_envs_cfg": false
  },
  "widgets": {
   "state": {},
   "version": "1.1.2"
  }
 },
 "nbformat": 4,
 "nbformat_minor": 1
}
