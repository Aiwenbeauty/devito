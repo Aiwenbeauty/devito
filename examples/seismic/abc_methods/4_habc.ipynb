{
 "cells": [
  {
   "cell_type": "markdown",
   "metadata": {},
   "source": [
    "# 4.1 - Introduction\n",
    "\n",
    "In this notebook we describe absorbing boundary conditions and their use combined with the *Hybdrid Absorbing Boundary Condition* (*HABC*). The common points to the previous notebooks <a href=\"1_introduction.ipynb\">Introduction to Acoustic Problem</a>, <a href=\"2_damping.ipynb\">Damping</a> and  <a href=\"3_pml.ipynb\">PML</a> will be used here, with brief descriptions."
   ]
  },
  {
   "cell_type": "markdown",
   "metadata": {},
   "source": [
    "# 4.2 - Absorbing Boundary Conditions\n",
    "\n",
    " We initially describe absorbing boundary conditions, the so called A1 and A2 Clayton's conditions and\n",
    " the scheme from Higdon. These methods can be used as pure boundary conditions, designed to reduce reflections,\n",
    " or as part of the Hybrid Absorbing Boundary Condition, in which they are combined with an absorption layer in a manner to be described ahead. \n",
    " \n",
    " In the presentation of these boundary conditions we initially consider the wave equation to be solved on\n",
    " the spatial domain $\\Omega=\\left[x_{I},x_{F}\\right] \\times\\left[z_{I},z_{F}\\right]$ as show in the figure bellow. More details about the equation and domain definition can be found in the <a href=\"1_introduction.ipynb\">Introduction to Acoustic Problem</a> notebook. \n",
    "\n",
    "<img src='domain1.png' width=500>\n",
    " \n",
    "## 4.2.1 - Clayton's A1 Boundary Condition\n",
    "\n",
    "Clayton's A1 boundary condition is based on a one way wave equation (OWWE). This simple condition\n",
    "  is such that outgoing waves normal to the border would leave without reflection. At the $\\partial \\Omega_1$ part of the boundary\n",
    "    we have, \n",
    "\n",
    "- $\\displaystyle\\frac{\\partial u(x,z,t)}{\\partial t}-c(x,z)\\displaystyle\\frac{\\partial u(x,z,t)}{\\partial x}=0.$\n",
    "\n",
    "while at $\\partial \\Omega_3$ the condition is\n",
    " \n",
    "- $\\displaystyle\\frac{\\partial u(x,z,t)}{\\partial t}+c(x,z)\\displaystyle\\frac{\\partial u(x,z,t)}{\\partial x}=0.$\n",
    "\n",
    "and at $\\partial \\Omega_2$\n",
    "\n",
    "- $\\displaystyle\\frac{\\partial u(x,z,t)}{\\partial t}+c(x,z)\\displaystyle\\frac{\\partial u(x,z,t)}{\\partial z}=0.$\n",
    "\n",
    "## 4.2.2 - Clayton's A2 Boundary Condition \n",
    "\n",
    "The A2 boundary condition aims to impose a boundary condition that would make outgoing waves leave the domain without being reflected. This condition is approximated (using a Padé approximation in the wave dispersion relation) by the following equation to be imposed on the boundary part $\\partial \\Omega_1$\n",
    "\n",
    "- $\\displaystyle\\frac{\\partial^{2} u(x,z,t)}{\\partial t^{2}}+c(x,z)\\displaystyle\\frac{\\partial^{2} u(x,z,t)}{\\partial x \\partial t}+\\frac{c^2(x,z)}{2}\\displaystyle\\frac{\\partial^{2} u(x,z,t)}{\\partial z^{2}}=0.$\n",
    "\n",
    "At $\\partial \\Omega_3$ we have\n",
    "\n",
    "- $\\displaystyle\\frac{\\partial^{2} u(x,z,t)}{\\partial t^{2}}-c(x,z)\\displaystyle\\frac{\\partial^{2} u(x,z,t)}{\\partial z \\partial t}+\\frac{c^2(x,z)}{2}\\displaystyle\\frac{\\partial^{2} u(x,z,t)}{\\partial x^{2}}=0.$\n",
    "\n",
    "while at $\\partial \\Omega_2$ the condition is\n",
    "\n",
    "- $\\displaystyle\\frac{\\partial^{2} u(x,z,t)}{\\partial t^{2}}-c(x,z)\\displaystyle\\frac{\\partial^{2} u(x,z,t)}{\\partial x \\partial t}+\\frac{c^2(x,z)}{2}\\displaystyle\\frac{\\partial^{2} u(x,z,t)}{\\partial z^{2}}=0.$\n",
    "\n",
    "At the corner points the condition is \n",
    "\n",
    "- $\\displaystyle\\frac{\\sqrt{2}\\partial u(x,z,t)}{\\partial t}+c(x,z)\\left(\\displaystyle\\frac{\\partial u(x,z,t)}{\\partial x}+\\displaystyle\\frac{\\partial u(x,z,t)}{\\partial z}\\right)=0.$\n",
    "\n",
    "## 4.2.3 -  Higdon Boundary Condition\n",
    "\n",
    "The Higdon Boundary condition of order p is given at $\\partial \\Omega_1$ and $\\partial \\Omega_3$n by:\n",
    "\n",
    "- $\\Pi_{j=1}^p(\\cos(\\alpha_j)\\left(\\displaystyle\\frac{\\partial }{\\partial t}-c(x,z)\\displaystyle\\frac{\\partial }{\\partial x}\\right)u(x,z,t)=0.$\n",
    "\n",
    "and at $\\partial \\Omega_2$\n",
    "\n",
    "- $\\Pi_{j=1}^p(\\cos(\\alpha_j)\\left(\\displaystyle\\frac{\\partial}{\\partial t}-c(x,z)\\displaystyle\\frac{\\partial}{\\partial z}\\right)u(x,z,t)=0.$\n",
    "\n",
    " This method would make that outgoing waves with angle of incidence at the boundary equal to $\\alpha_j$ would\n",
    " present no reflection. The method we use in this notebook employs order 2 ($p=2$) and angles $0$ and $\\pi/4$.\n",
    " \n",
    " Observation: There are similarities between Clayton's A2 and the Higdon condition. If one chooses $p=2$ and\n",
    " both angles equal to zero in Higdon's method, this leads to the condition:\n",
    " $ u_{tt}-2cu_{xt}+c^2u_{xx}=0$. But, using the wave equation, we have that $c^2u_{xx}=u_{tt}-c^2u_{zz}$. Replacing this relation in the previous equation, we get: $2u_{tt}-2cu_{xt}-c^2u_{zz}=0$ which is Clayton's A2\n",
    " boundary condition. In this sence, Higdon's method would generalize Clayton's scheme. But the discretization of\n",
    " both methods are quite different, since in Higdon's scheme the boundary operators are unidirectional, while\n",
    " in Clayton's A2 not."
   ]
  },
  {
   "cell_type": "markdown",
   "metadata": {},
   "source": [
    "# 4.3 - Acoustic Problem with HABC\n",
    "\n",
    "In the hybrid absorption boundary condition (HABC) scheme we will also extend the spatial domain as $\\Omega=\\left[x_{I}-L,x_{F}+L\\right] \\times\\left[z_{I},z_{F}+L\\right]$.\n",
    "\n",
    "We added to the target domain $\\Omega_{0}=\\left[x_{I},x_{F}\\right]\\times\\left[z_{I},z_{F}\\right]$ an extension zone, of length $L$ in both ends of the direction $x$ and at the end of the domain in the direction $z$, as represented in the figure bellow.\n",
    "\n",
    "<img src='domain2.png' width=500>\n",
    "\n",
    " The difference with respect to previous schemes, is that this extended region will now be considered as the union of several gradual extensions. As represented in the next figure, we define a region $A_M=\\Omega_{0}$. The regions $A_k, k=M-1,\\cdots,1$ will be defined as the previous region $A_{k+1}$ to which we add one extra grid line to the left,\n",
    " right and bottom sides of it, such that the final region $A_1=\\Omega$ (we thus have $M=L+1$).\n",
    " \n",
    " <img src='region1.png' width=500>\n",
    " \n",
    " We now consider the temporal evolution\n",
    " of the solution of the HABC method. Suppose that $u(x,z,t-1)$ is the solution at a given instant $t-1$ in all the \n",
    " extended $\\Omega$ domain. We update it to instant $t$, using one of the absorbing boundary conditions described in the previous section (A1, A2 or Higdon) producing a preliminar new function $u(x,z,t)$. Now, call $u_{1}(x,z,t)$ the solution at instant $t$ constructed in the extended region, by applying the same absorbing boundary condition at the border of each of the domains  $A_k,k=1,..,M$. The HABC solution will be constructed as a convex combination of $u(x,z,t)$ and $u_{1}(x,z,t)$:\n",
    " \n",
    "- $u(x,z,t) = (1-\\omega)u(x,z,t)+\\omega u_{1}(x,z,t)$.\n",
    "\n",
    "The function $u_{1}(x,z,t)$ is defined (and used) only in the extension of the domain. The function $w$ is a \n",
    "weight function growing from zero at the boundary $\\partial\\Omega_{0}$ to one at $\\partial\\Omega$. The particular weight function to be used could vary linearly, as when the scheme was first proposed by Liu and Sen. But HABC produces better results with a non-linear weight function to be described ahead.\n",
    "\n",
    "The wave equation employed here will be the same as in the previous notebooks, with same velocity model, source term and initial conditions.\n",
    "\n"
   ]
  },
  {
   "cell_type": "markdown",
   "metadata": {},
   "source": [
    "## 4.3.1 The weight  function $\\omega$\n",
    "\n",
    "One can choose a *linear* weight function as \n",
    "\n",
    "\\begin{equation}\n",
    "\\omega_{k} = \\displaystyle\\frac{M-k}{M};\n",
    "\\end{equation}\n",
    "\n",
    "or preferably a *non linear*\n",
    "\n",
    "\\begin{equation}\n",
    "\\omega_{k}=\\left\\{ \\begin{array}{ll}\n",
    "1, & \\textrm{if $1\\leq k \\leq P+1$,} \\\\ \\left(\\displaystyle\\frac{M-k}{M-P}\\right)^{\\alpha} , & \\textrm{if $P+2 \\leq k \\leq  M-1.$} \\\\ 0 , & \\textrm{if $k=M$.}\\end{array}\\right.\n",
    "\\label{eq:elo8}\n",
    "\\end{equation}  \n",
    "\n",
    "In general we take $P=2$ and we choose $\\alpha$ as follows:\n",
    "\n",
    "- $\\alpha = 1.5 + 0.07(npt-P)$, in the case of A1 and A2;\n",
    "- $\\alpha = 1.0 + 0.15(npt-P)$, in the case of Higdon.\n",
    "\n",
    "The value *npt* designates the number of discrete points that define the length of the blue band in the direction $x$ and/or $z$."
   ]
  },
  {
   "cell_type": "markdown",
   "metadata": {},
   "source": [
    "# 4.4 - Finite Difference Operators and Discretization of Spatial and Temporal Domains\n",
    "\n",
    " We employ the same methods as in the previous notebooks. "
   ]
  },
  {
   "cell_type": "markdown",
   "metadata": {},
   "source": [
    "# 4.5 - Standard Problem\n",
    "\n",
    "Redeeming the Standard Problem definitions discussed on the notebook <a href=\"1_introduction.ipynb\">Introduction to Acoustic Problem</a> we have that:\n",
    "\n",
    "- $x_{I}$ =  0.0 Km;\n",
    "- $x_{F}$ =  1.0 Km =  1000 m;\n",
    "- $z_{I}$ =  0.0 Km;\n",
    "- $z_{F}$ =  1.0 Km =  1000 m;\n",
    "\n",
    "The spatial discretization parameters are given by:\n",
    "- $\\Delta x$ = 0.01 km = 10m;\n",
    "- $\\Delta z$ = 0.01 km = 10m;\n",
    "\n",
    "Let's consider a $I$ the time domain with the following limitations:\n",
    "\n",
    "- $t_{I}$ = 0 s = 0 ms;\n",
    "- $t_{F}$ = 1 s = 1000 ms;\n",
    "\n",
    "The temporal discretization parameters are given by:\n",
    "\n",
    "- $\\Delta t$ $\\approx$ 0.0016 s = 1.6 ms;\n",
    "- $NT$ = 621.\n",
    "\n",
    "The source term, velocity model and positioning of receivers will be as in the previous notebooks."
   ]
  },
  {
   "cell_type": "markdown",
   "metadata": {},
   "source": [
    "# 4.6 - Numerical Simulations\n",
    "\n",
    "For the numerical simulations of this notebook we use several of the notebook codes presented in  <a href=\"2_damping.ipynb\">Damping</a> e <a href=\"3_pml.ipynb\">PML</a>. The new features will be described in more detail.\n",
    "\n",
    "So, we import the following Python and Devito packages:"
   ]
  },
  {
   "cell_type": "code",
   "execution_count": 1,
   "metadata": {},
   "outputs": [],
   "source": [
    "import numpy                   as np\n",
    "import matplotlib.pyplot       as plot\n",
    "import math                    as mt\n",
    "import matplotlib.ticker       as mticker    \n",
    "from   mpl_toolkits.axes_grid1 import make_axes_locatable\n",
    "from   matplotlib              import cm\n",
    "import time                    as tm\n",
    "from   devito import *\n",
    "%matplotlib inline"
   ]
  },
  {
   "cell_type": "markdown",
   "metadata": {},
   "source": [
    "From Devito's library of examples we import the following structures:"
   ]
  },
  {
   "cell_type": "code",
   "execution_count": 2,
   "metadata": {},
   "outputs": [],
   "source": [
    "from   examples.seismic        import TimeAxis\n",
    "from   examples.seismic        import RickerSource\n",
    "from   examples.seismic        import Receiver"
   ]
  },
  {
   "cell_type": "markdown",
   "metadata": {},
   "source": [
    "The mesh parameters that we choose define the domain $\\Omega_{0}$ plus the absorption region. For this, we use the following data:"
   ]
  },
  {
   "cell_type": "code",
   "execution_count": 3,
   "metadata": {},
   "outputs": [],
   "source": [
    "nptx   =  101\n",
    "nptz   =  101\n",
    "x0     =  0.\n",
    "x1     =  1000. \n",
    "compx  =  x1-x0\n",
    "z0     =  0.\n",
    "z1     =  1000.\n",
    "compz  =  z1-z0;\n",
    "hxv    =  (x1-x0)/(nptx-1)\n",
    "hzv    =  (z1-z0)/(nptz-1)"
   ]
  },
  {
   "cell_type": "markdown",
   "metadata": {},
   "source": [
    "As we saw previously, HABC has three approach possibilities (A1, A2 and Higdon) and two types of weights (linear and non-linear). So, we insert two control variables. The variable called *habctype* chooses the type of HABC approach and is such that:\n",
    "\n",
    "- *habctype=1* is equivalent to choosing A1;\n",
    "- *habctype=2* is equivalent to choosing A2;\n",
    "- *habctype=3* is equivalent to choosing Higdon;\n",
    "\n",
    "Regarding the weights, we will introduce the variable *habcw* that chooses the type of weight and is such that:\n",
    "\n",
    "- *habcw=1* is equivalent to linear weight;\n",
    "- *habcw=2* is equivalent to non-linear weights;\n",
    "\n",
    "In this way, we make the following choices:"
   ]
  },
  {
   "cell_type": "code",
   "execution_count": 4,
   "metadata": {},
   "outputs": [],
   "source": [
    "habctype  = 1\n",
    "habcw     = 2"
   ]
  },
  {
   "cell_type": "markdown",
   "metadata": {},
   "source": [
    "The number of points of the absorption layer in the directions $x$ and $z$ are given, respectively, by:"
   ]
  },
  {
   "cell_type": "code",
   "execution_count": 5,
   "metadata": {},
   "outputs": [],
   "source": [
    "npmlx  = 20\n",
    "npmlz  = 20"
   ]
  },
  {
   "cell_type": "markdown",
   "metadata": {},
   "source": [
    "The lengths $L_{x}$ and $L_{z}$ are given, respectively, by:"
   ]
  },
  {
   "cell_type": "code",
   "execution_count": 6,
   "metadata": {},
   "outputs": [],
   "source": [
    "lx = npmlx*hxv\n",
    "lz = npmlz*hzv"
   ]
  },
  {
   "cell_type": "markdown",
   "metadata": {},
   "source": [
    "For the construction of the *grid* we have:"
   ]
  },
  {
   "cell_type": "code",
   "execution_count": 7,
   "metadata": {},
   "outputs": [],
   "source": [
    "nptx    =  nptx + 2*npmlx\n",
    "nptz    =  nptz + 1*npmlz\n",
    "x0      =  x0 - hxv*npmlx\n",
    "x1      =  x1 + hxv*npmlx\n",
    "compx   =  x1-x0\n",
    "z0      =  z0\n",
    "z1      =  z1 + hzv*npmlz\n",
    "compz   =  z1-z0\n",
    "origin  = (x0,z0)\n",
    "extent  = (compx,compz)\n",
    "shape   = (nptx,nptz)\n",
    "spacing = (hxv,hzv)"
   ]
  },
  {
   "cell_type": "markdown",
   "metadata": {},
   "source": [
    "As in the case of the acoustic equation with Damping and in the acoustic equation with PML, we can define specific regions in our domain, since the solution $u_{1}(x,z,t)$ is only calculated in the blue region. We will soon follow a similar scheme for creating *subdomains* as was done on notebooks <a href=\"2_damping.ipynb\">Damping</a> and <a href=\"3_pml.ipynb\">PML</a>.\n",
    "\n",
    "First, we define a region corresponding to the entire domain, naming this region as *d0*. In the language of *subdomains* *d0* it is written as:"
   ]
  },
  {
   "cell_type": "code",
   "execution_count": 8,
   "metadata": {},
   "outputs": [],
   "source": [
    "class d0domain(SubDomain):\n",
    "    name = 'd0'\n",
    "    def define(self, dimensions):\n",
    "        x, z = dimensions\n",
    "        return {x: x, z: z}\n",
    "d0_domain = d0domain()"
   ]
  },
  {
   "cell_type": "markdown",
   "metadata": {},
   "source": [
    "The blue region will be built with 3 divisions:\n",
    "\n",
    "- *d1* represents the left range in the direction *x*, where the pairs $(x,z)$ satisfy: $x\\in\\{0,npmlx\\}$ and $z\\in\\{0,nptz\\}$;\n",
    "- *d2* represents the rigth range in the direction *x*, where the pairs $(x,z)$ satisfy: $x\\in\\{nptx-npmlx,nptx\\}$ and $z\\in\\{0,nptz\\}$;\n",
    "- *d3* represents the left range in the direction *y*, where the pairs $(x,z)$ satisfy: $x\\in\\{npmlx,nptx-npmlx\\}$ and $z\\in\\{nptz-npmlz,nptz\\}$;\n",
    "\n",
    "Thus, the regions *d1*, *d2* and *d3* aare described as follows in the language of *subdomains*:"
   ]
  },
  {
   "cell_type": "code",
   "execution_count": 9,
   "metadata": {},
   "outputs": [],
   "source": [
    "class d1domain(SubDomain):\n",
    "    name = 'd1'\n",
    "    def define(self, dimensions):\n",
    "        x, z = dimensions\n",
    "        return {x: ('left',npmlx), z: z}\n",
    "d1_domain = d1domain()\n",
    "\n",
    "class d2domain(SubDomain):\n",
    "    name = 'd2'\n",
    "    def define(self, dimensions):\n",
    "        x, z = dimensions\n",
    "        return {x: ('right',npmlx), z: z}\n",
    "d2_domain = d2domain()\n",
    "\n",
    "class d3domain(SubDomain):\n",
    "    name = 'd3'\n",
    "    def define(self, dimensions):\n",
    "        x, z = dimensions\n",
    "        if((habctype==3)&(habcw==1)):\n",
    "            return {x: x, z: ('right',npmlz)}\n",
    "        else:\n",
    "            return {x: ('middle', npmlx, npmlx), z: ('right',npmlz)}\n",
    "d3_domain = d3domain()"
   ]
  },
  {
   "cell_type": "markdown",
   "metadata": {},
   "source": [
    "The figure below represents the division of domains that we did previously:\n",
    "\n",
    "<img src='domain3.png' width=500>\n",
    "\n",
    "After we defining the spatial parameters and constructing the *subdomains*, we then generate the *spatial grid* and set the velocity field:"
   ]
  },
  {
   "cell_type": "code",
   "execution_count": 10,
   "metadata": {},
   "outputs": [],
   "source": [
    "grid = Grid(origin=origin, extent=extent, shape=shape, subdomains=(d0_domain,d1_domain,d2_domain,d3_domain), dtype=np.float64)"
   ]
  },
  {
   "cell_type": "code",
   "execution_count": 11,
   "metadata": {},
   "outputs": [],
   "source": [
    "v0 = np.zeros((nptx,nptz))                     \n",
    "X0 = np.linspace(x0,x1,nptx)\n",
    "Z0 = np.linspace(z0,z1,nptz)\n",
    "    \n",
    "x10 = x0+lx\n",
    "x11 = x1-lx\n",
    "        \n",
    "z10 = z0\n",
    "z11 = z1 - lz\n",
    "\n",
    "xm = 0.5*(x10+x11)\n",
    "zm = 0.5*(z10+z11)\n",
    "        \n",
    "pxm = 0\n",
    "pzm = 0\n",
    "        \n",
    "for i in range(0,nptx):\n",
    "    if(X0[i]==xm): pxm = i\n",
    "            \n",
    "for j in range(0,nptz):\n",
    "    if(Z0[j]==zm): pzm = j\n",
    "            \n",
    "p0 = 0    \n",
    "p1 = pzm\n",
    "p2 = nptz\n",
    "        \n",
    "v0[0:nptx,p0:p1] = 1.5\n",
    "v0[0:nptx,p1:p2] = 2.5"
   ]
  },
  {
   "cell_type": "markdown",
   "metadata": {},
   "source": [
    "Time parameters are defined and constructed by the following sequence of commands:"
   ]
  },
  {
   "cell_type": "code",
   "execution_count": 12,
   "metadata": {},
   "outputs": [],
   "source": [
    "t0    = 0.\n",
    "tn    = 1000.   \n",
    "CFL   = 0.4\n",
    "vmax  = np.amax(v0) \n",
    "dtmax = np.float64((min(hxv,hzv)*CFL)/(vmax))\n",
    "ntmax = int((tn-t0)/dtmax)+1\n",
    "dt0   = np.float64((tn-t0)/ntmax)"
   ]
  },
  {
   "cell_type": "markdown",
   "metadata": {},
   "source": [
    "With the temporal parameters, we generate the *temporal grid* with *TimeAxis* as follows:"
   ]
  },
  {
   "cell_type": "code",
   "execution_count": 13,
   "metadata": {},
   "outputs": [],
   "source": [
    "time_range = TimeAxis(start=t0,stop=tn,num=ntmax+1)\n",
    "nt         = time_range.num - 1"
   ]
  },
  {
   "cell_type": "markdown",
   "metadata": {},
   "source": [
    "The symbolic values associated with the spatial and temporal grids that are used in the composition of the equations are given by:"
   ]
  },
  {
   "cell_type": "code",
   "execution_count": 14,
   "metadata": {},
   "outputs": [],
   "source": [
    "(hx,hz) = grid.spacing_map  \n",
    "(x, z)  = grid.dimensions     \n",
    "t       = grid.stepping_dim\n",
    "dt      = grid.stepping_dim.spacing"
   ]
  },
  {
   "cell_type": "markdown",
   "metadata": {},
   "source": [
    "We set the Ricker source: "
   ]
  },
  {
   "cell_type": "code",
   "execution_count": 15,
   "metadata": {},
   "outputs": [],
   "source": [
    "f0     = 0.01\n",
    "nfonte = 1\n",
    "xposf  = 0.5*(compx-2*npmlx*hxv)\n",
    "zposf  = hzv"
   ]
  },
  {
   "cell_type": "code",
   "execution_count": 16,
   "metadata": {},
   "outputs": [],
   "source": [
    "src = RickerSource(name='src',grid=grid,f0=f0,npoint=nfonte,time_range=time_range,staggered=NODE,dtype=np.float64)\n",
    "src.coordinates.data[:, 0] = xposf\n",
    "src.coordinates.data[:, 1] = zposf"
   ]
  },
  {
   "cell_type": "markdown",
   "metadata": {},
   "source": [
    "We set the receivers: "
   ]
  },
  {
   "cell_type": "code",
   "execution_count": 17,
   "metadata": {},
   "outputs": [],
   "source": [
    "nrec   = nptx\n",
    "nxpos  = np.linspace(x0,x1,nrec)\n",
    "nzpos  = hzv"
   ]
  },
  {
   "cell_type": "code",
   "execution_count": 18,
   "metadata": {},
   "outputs": [],
   "source": [
    "rec = Receiver(name='rec',grid=grid,npoint=nrec,time_range=time_range,staggered=NODE,dtype=np.float64)\n",
    "rec.coordinates.data[:, 0] = nxpos\n",
    "rec.coordinates.data[:, 1] = nzpos"
   ]
  },
  {
   "cell_type": "markdown",
   "metadata": {},
   "source": [
    "The displacement field *u* and the velocity *vel* are allocated:"
   ]
  },
  {
   "cell_type": "code",
   "execution_count": 19,
   "metadata": {},
   "outputs": [],
   "source": [
    "u = TimeFunction(name=\"u\",grid=grid,time_order=2,space_order=2,staggered=NODE,dtype=np.float64)"
   ]
  },
  {
   "cell_type": "code",
   "execution_count": 20,
   "metadata": {},
   "outputs": [],
   "source": [
    "vel = Function(name=\"vel\",grid=grid,space_order=2,staggered=NODE,dtype=np.float64)\n",
    "vel.data[:,:] = v0[:,:]"
   ]
  },
  {
   "cell_type": "markdown",
   "metadata": {},
   "source": [
    "We include the source term as *src_term* using the following command:"
   ]
  },
  {
   "cell_type": "code",
   "execution_count": 21,
   "metadata": {},
   "outputs": [],
   "source": [
    "src_term = src.inject(field=u.forward,expr=src*dt**2*vel**2)"
   ]
  },
  {
   "cell_type": "markdown",
   "metadata": {},
   "source": [
    "The Receivers are again called *rec_term*:"
   ]
  },
  {
   "cell_type": "code",
   "execution_count": 22,
   "metadata": {},
   "outputs": [],
   "source": [
    "rec_term = rec.interpolate(expr=u)"
   ]
  },
  {
   "cell_type": "markdown",
   "metadata": {},
   "source": [
    "The next step is to generate the $\\omega$ weights, which are selected using the *habcw* variable. Our construction approach will be in two steps: in a first step we build local vectors *weightsx* and *weightsz* that represent the weights in the directions $x$ and $z$, respectively. In a second step, with the *weightsx* and *weightsz* vectors, we distribute them in two global arrays called *Mweightsx* and *Mweightsz* that represent the distribution of these weights along the *grid* in the directions $x$ and $z$ respectively. The *generateweights* function below perform the operations listed previously:"
   ]
  },
  {
   "cell_type": "code",
   "execution_count": 23,
   "metadata": {},
   "outputs": [],
   "source": [
    "def generateweights():\n",
    "    \n",
    "    weightsx   = np.zeros(npmlx)\n",
    "    weightsz   = np.zeros(npmlz)\n",
    "    Mweightsx  = np.zeros((nptx,nptz))\n",
    "    Mweightsz  = np.zeros((nptx,nptz))\n",
    "    \n",
    "    if(habcw==1):\n",
    "    \n",
    "        for i in range(0,npmlx):\n",
    "            weightsx[i] = (npmlx-i)/(npmlx)\n",
    "    \n",
    "        for i in range(0,npmlz):\n",
    "            weightsz[i] = (npmlz-i)/(npmlz)\n",
    "    \n",
    "    if(habcw==2):\n",
    "           \n",
    "        mx = 2\n",
    "        mz = 2\n",
    "                   \n",
    "        if(habctype==3):\n",
    "            \n",
    "            alphax  = 1.0 + 0.15*(npmlx-mx)    \n",
    "            alphaz  = 1.0 + 0.15*(npmlz-mz)\n",
    "            \n",
    "        else:\n",
    "    \n",
    "            alphax  = 1.5 + 0.07*(npmlx-mx)    \n",
    "            alphaz  = 1.5 + 0.07*(npmlz-mz)\n",
    "            \n",
    "        for i in range(0,npmlx):\n",
    "                \n",
    "            if(0<=i<=(mx)):\n",
    "                weightsx[i] = 1\n",
    "            elif((mx+1)<=i<=npmlx-1):\n",
    "                weightsx[i] = ((npmlx-i)/(npmlx-mx))**(alphax)\n",
    "            else:\n",
    "                weightsx[i] = 0\n",
    "    \n",
    "        for i in range(0,npmlz):\n",
    "                \n",
    "            if(0<=i<=(mz)):\n",
    "                weightsz[i] = 1\n",
    "            elif((mz+1)<=i<=npmlz-1):\n",
    "                weightsz[i] = ((npmlz-i)/(npmlz-mz))**(alphaz)\n",
    "            else:\n",
    "                weightsz[i] = 0\n",
    "        \n",
    "    for k in range(0,npmlx):\n",
    "            \n",
    "        ai = k\n",
    "        af = nptx - k - 1 \n",
    "        bi = 0\n",
    "        bf = nptz - k\n",
    "        Mweightsx[ai,bi:bf] = weightsx[k]\n",
    "        Mweightsx[af,bi:bf] = weightsx[k]\n",
    "                        \n",
    "    for k in range(0,npmlz):\n",
    "            \n",
    "        ai = k\n",
    "        af = nptx - k \n",
    "        bf = nptz - k - 1        \n",
    "        Mweightsz[ai:af,bf] = weightsz[k]\n",
    "        \n",
    "    return Mweightsx,Mweightsz"
   ]
  },
  {
   "cell_type": "markdown",
   "metadata": {},
   "source": [
    "Once the *generateweights* function has been created, we execute it with the following command:"
   ]
  },
  {
   "cell_type": "code",
   "execution_count": 24,
   "metadata": {},
   "outputs": [],
   "source": [
    "Mweightsx,Mweightsz = generateweights();"
   ]
  },
  {
   "cell_type": "markdown",
   "metadata": {},
   "source": [
    "Next we create the fields for the weight arrays  *weightsx* and *weightsz*: "
   ]
  },
  {
   "cell_type": "code",
   "execution_count": 25,
   "metadata": {},
   "outputs": [],
   "source": [
    "weightsx = Function(name=\"weightsx\",grid=grid,space_order=2,staggered=NODE,dtype=np.float64)\n",
    "weightsx.data[:,:] = Mweightsx[:,:]\n",
    "\n",
    "weightsz = Function(name=\"weightsz\",grid=grid,space_order=2,staggered=NODE,dtype=np.float64)\n",
    "weightsz.data[:,:] = Mweightsz[:,:]"
   ]
  },
  {
   "cell_type": "markdown",
   "metadata": {},
   "source": [
    "For the discretization of the A2 and Higdon's boundary conditions (to calculate $u_{1}(x,z,t)$) we need  information from three time levels, namely $u(x,z,t-1)$, $u (x,z,t)$ and $u(x,z,t+1)$. So it is convenient to create the three fields:"
   ]
  },
  {
   "cell_type": "code",
   "execution_count": 26,
   "metadata": {},
   "outputs": [],
   "source": [
    "u1  = Function(name=\"u1\"   ,grid=grid,space_order=2,staggered=NODE,dtype=np.float64)\n",
    "u2  = Function(name=\"u2\"   ,grid=grid,space_order=2,staggered=NODE,dtype=np.float64)\n",
    "u3  = Function(name=\"u3\"   ,grid=grid,space_order=2,staggered=NODE,dtype=np.float64)"
   ]
  },
  {
   "cell_type": "markdown",
   "metadata": {},
   "source": [
    "We will assign to each of them the three time solutions described previously, that is,\n",
    "\n",
    "- u1(x,z) = u(x,z,t-1);\n",
    "- u2(x,z) = u(x,z,t);\n",
    "- u3(x,z) = u(x,z,t+1);\n",
    "\n",
    "These three assignments can be represented by the *stencil01* given by:"
   ]
  },
  {
   "cell_type": "code",
   "execution_count": 27,
   "metadata": {},
   "outputs": [],
   "source": [
    "stencil01 = [Eq(u1,u.backward),Eq(u2,u),Eq(u3,u.forward)]"
   ]
  },
  {
   "cell_type": "markdown",
   "metadata": {},
   "source": [
    "An update of the term *u3(x,z)* will be necessary after updating *u(x,z,t+1)* in the direction $x$, so that we can continue to apply the HABC method. This update is given by *stencil02* defined as:"
   ]
  },
  {
   "cell_type": "code",
   "execution_count": 28,
   "metadata": {},
   "outputs": [],
   "source": [
    "stencil02 = [Eq(u3,u.forward)]"
   ]
  },
  {
   "cell_type": "markdown",
   "metadata": {},
   "source": [
    "For the acoustic equation with HABC without the source term we need in $\\Omega$ \n",
    "\n",
    "- eq1 = u.dt2 - vel0 * vel0 * u.laplace;\n",
    "\n",
    "So the *pde* that represents this equation is given by:"
   ]
  },
  {
   "cell_type": "code",
   "execution_count": 29,
   "metadata": {},
   "outputs": [],
   "source": [
    "pde0 = Eq(u.dt2 - u.laplace*vel*vel)"
   ]
  },
  {
   "cell_type": "markdown",
   "metadata": {},
   "source": [
    "And the *stencil* for *pde0* is given to:"
   ]
  },
  {
   "cell_type": "code",
   "execution_count": 30,
   "metadata": {},
   "outputs": [],
   "source": [
    "stencil0  = Eq(u.forward, solve(pde0,u.forward))"
   ]
  },
  {
   "cell_type": "markdown",
   "metadata": {},
   "source": [
    "For the blue region we will divide it into $npmlx$ layers in the $x$ direction and $npmlz$ layers in the $z$ direction. In this case, the representation is a little more complex than shown in the figures that exemplify the regions $A_{k}$ because there are intersections between the layers.\n",
    "\n",
    "**Observation:** Note that the representation of the $A_{k}$ layers that we present in our text reflects the case where $npmlx=npmlz$. However, our code includes the case illustrated in the figure, as well as situations in which $npmlx\\neq npmlz $. The discretizations of the bounadry conditions A1, A2 and Higdon follow in the bibliographic references at the end. They will not be detailled here, but can be seen in the codes below. \n",
    "\n",
    "In the sequence of codes below we build the *pdes* that represent the *eqs* of the regions $B_{1}$, $B_{2}$ and $B_{3}$ and/or in the corners (red points in the case of *A2*) as represented in the following figure:\n",
    "\n",
    "<img src='region2.png' width=500>\n",
    "\n",
    "In the sequence, we present the *stencils* for each of these *pdes*.\n",
    "\n",
    "So, for the A1 case we have the following *pdes* and *stencils*:"
   ]
  },
  {
   "cell_type": "code",
   "execution_count": 31,
   "metadata": {},
   "outputs": [],
   "source": [
    "if(habctype==1):\n",
    "\n",
    "    # Region B_{1}\n",
    "    aux1      = ((-vel[x,z]*dt+hx)*u2[x,z] + (vel[x,z]*dt+hx)*u2[x+1,z] + (vel[x,z]*dt-hx)*u3[x+1,z])/(vel[x,z]*dt+hx)\n",
    "    pde1      = (1-weightsx[x,z])*u3[x,z] + weightsx[x,z]*aux1\n",
    "    stencil1  = Eq(u.forward,pde1,subdomain = grid.subdomains['d1'])\n",
    "\n",
    "    # Region B_{3}\n",
    "    aux2      = ((-vel[x,z]*dt+hx)*u2[x,z] + (vel[x,z]*dt+hx)*u2[x-1,z] + (vel[x,z]*dt-hx)*u3[x-1,z])/(vel[x,z]*dt+hx)\n",
    "    pde2      = (1-weightsx[x,z])*u3[x,z] + weightsx[x,z]*aux2\n",
    "    stencil2  = Eq(u.forward,pde2,subdomain = grid.subdomains['d2'])\n",
    "\n",
    "    # Region B_{2}\n",
    "    aux3      = ((-vel[x,z]*dt+hz)*u2[x,z] + (vel[x,z]*dt+hz)*u2[x,z-1] + (vel[x,z]*dt-hz)*u3[x,z-1])/(vel[x,z]*dt+hz)\n",
    "    pde3      = (1-weightsz[x,z])*u3[x,z] + weightsz[x,z]*aux3\n",
    "    stencil3  = Eq(u.forward,pde3,subdomain = grid.subdomains['d3'])"
   ]
  },
  {
   "cell_type": "markdown",
   "metadata": {},
   "source": [
    "For the A2 case we have the following *pdes* and *stencils*:"
   ]
  },
  {
   "cell_type": "code",
   "execution_count": 32,
   "metadata": {},
   "outputs": [],
   "source": [
    "if(habctype==2):\n",
    "   \n",
    "    # Region B_{1}\n",
    "    cte11 =  (1/(2*dt**2)) + (1/(2*dt*hx))*vel[x,z]\n",
    "    cte21 = -(1/(2*dt**2)) + (1/(2*dt*hx))*vel[x,z] - (1/(2*hz**2))*vel[x,z]*vel[x,z] \n",
    "    cte31 = -(1/(2*dt**2)) - (1/(2*dt*hx))*vel[x,z]\n",
    "    cte41 =  (1/(dt**2))\n",
    "    cte51 =  (1/(4*hz**2))*vel[x,z]*vel[x,z]\n",
    "\n",
    "    aux1      = (cte21*(u3[x+1,z] + u1[x,z]) + cte31*u1[x+1,z] + cte41*(u2[x,z]+u2[x+1,z]) + cte51*(u3[x+1,z+1] + u3[x+1,z-1] + u1[x,z+1] + u1[x,z-1]))/cte11\n",
    "    pde1      = (1-weightsx[x,z])*u3[x,z] + weightsx[x,z]*aux1\n",
    "    stencil1  = Eq(u.forward,pde1,subdomain = grid.subdomains['d1'])\n",
    "    \n",
    "    # Region B_{3}\n",
    "    cte12 =  (1/(2*dt**2)) + (1/(2*dt*hx))*vel[x,z]\n",
    "    cte22 = -(1/(2*dt**2)) + (1/(2*dt*hx))*vel[x,z] - (1/(2*hz**2))*vel[x,z]*vel[x,z] \n",
    "    cte32 = -(1/(2*dt**2)) - (1/(2*dt*hx))*vel[x,z]\n",
    "    cte42 =  (1/(dt**2))\n",
    "    cte52 =  (1/(4*hz**2))*vel[x,z]*vel[x,z]\n",
    "  \n",
    "    aux2      = (cte22*(u3[x-1,z] + u1[x,z]) + cte32*u1[x-1,z] + cte42*(u2[x,z]+u2[x-1,z]) + cte52*(u3[x-1,z+1] + u3[x-1,z-1] + u1[x,z+1] + u1[x,z-1]))/cte12\n",
    "    pde2      = (1-weightsx[x,z])*u3[x,z] + weightsx[x,z]*aux2\n",
    "    stencil2  = Eq(u.forward,pde2,subdomain = grid.subdomains['d2'])\n",
    "\n",
    "    # Region B_{2}\n",
    "    cte13 =  (1/(2*dt**2)) + (1/(2*dt*hz))*vel[x,z]\n",
    "    cte23 = -(1/(2*dt**2)) + (1/(2*dt*hz))*vel[x,z] - (1/(2*hx**2))*vel[x,z]*vel[x,z] \n",
    "    cte33 = -(1/(2*dt**2)) - (1/(2*dt*hz))*vel[x,z]\n",
    "    cte43 =  (1/(dt**2))\n",
    "    cte53 =  (1/(4*hx**2))*vel[x,z]*vel[x,z]\n",
    "\n",
    "    aux3      = (cte23*(u3[x,z-1] + u1[x,z]) + cte33*u1[x,z-1] + cte43*(u2[x,z]+u2[x,z-1]) + cte53*(u3[x+1,z-1] + u3[x-1,z-1] + u1[x+1,z] + u1[x-1,z]))/cte13\n",
    "    pde3      = (1-weightsz[x,z])*u3[x,z] + weightsz[x,z]*aux3\n",
    "    stencil3  = Eq(u.forward,pde3,subdomain = grid.subdomains['d3'])\n",
    "\n",
    "    # Red point rigth side\n",
    "    stencil4  = [Eq(u[t+1,nptx-1-k,nptz-1-k],(1-weightsz[nptx-1-k,nptz-1-k])*u3[nptx-1-k,nptz-1-k] + \n",
    "                 weightsz[nptx-1-k,nptz-1-k]*(((-(1/(4*hx))   + (1/(4*hz)) - (np.sqrt(2))/(4*vel[nptx-1-k,nptz-1-k]*dt))*u3[nptx-1-k,nptz-2-k] \n",
    "                 + ((1/(4*hx))  - (1/(4*hz)) - (np.sqrt(2))/(4*vel[nptx-1-k,nptz-1-k]*dt))*u3[nptx-2-k,nptz-1-k] \n",
    "                 + ((1/(4*hx))  + (1/(4*hz)) - (np.sqrt(2))/(4*vel[nptx-1-k,nptz-1-k]*dt))*u3[nptx-2-k,nptz-2-k] \n",
    "                 + (-(1/(4*hx)) - (1/(4*hz)) + (np.sqrt(2))/(4*vel[nptx-1-k,nptz-1-k]*dt))*u2[nptx-1-k,nptz-1-k] \n",
    "                 + (-(1/(4*hx)) + (1/(4*hz)) + (np.sqrt(2))/(4*vel[nptx-1-k,nptz-1-k]*dt))*u2[nptx-1-k,nptz-2-k] \n",
    "                 + ((1/(4*hx))  - (1/(4*hz)) + (np.sqrt(2))/(4*vel[nptx-1-k,nptz-1-k]*dt))*u2[nptx-2-k,nptz-1-k] \n",
    "                 + ((1/(4*hx))  + (1/(4*hz)) + (np.sqrt(2))/(4*vel[nptx-1-k,nptz-1-k]*dt))*u2[nptx-2-k,nptz-2-k])\n",
    "                 / (((1/(4*hx)) + (1/(4*hz)) + (np.sqrt(2))/(4*vel[nptx-1-k,nptz-1-k]*dt))))) for k in range(0,npmlz)] \n",
    "\n",
    "    # Red point left side\n",
    "    stencil5  = [Eq(u[t+1,k,nptz-1-k],(1-weightsx[k,nptz-1-k] )*u3[k,nptz-1-k] \n",
    "                                + weightsx[k,nptz-1-k]*(( (-(1/(4*hx)) + (1/(4*hz)) - (np.sqrt(2))/(4*vel[k,nptz-1-k]*dt))*u3[k,nptz-2-k] \n",
    "                                + ((1/(4*hx))  - (1/(4*hz)) - (np.sqrt(2))/(4*vel[k,nptz-1-k]*dt))*u3[k+1,nptz-1-k] \n",
    "                                + ((1/(4*hx))  + (1/(4*hz)) - (np.sqrt(2))/(4*vel[k,nptz-1-k]*dt))*u3[k+1,nptz-2-k] \n",
    "                                + (-(1/(4*hx)) - (1/(4*hz)) + (np.sqrt(2))/(4*vel[k,nptz-1-k]*dt))*u2[k,nptz-1-k] \n",
    "                                + (-(1/(4*hx)) + (1/(4*hz)) + (np.sqrt(2))/(4*vel[k,nptz-1-k]*dt))*u2[k,nptz-2-k] \n",
    "                                + ((1/(4*hx))  - (1/(4*hz)) + (np.sqrt(2))/(4*vel[k,nptz-1-k]*dt))*u2[k+1,nptz-1-k] \n",
    "                                + ((1/(4*hx))  + (1/(4*hz)) + (np.sqrt(2))/(4*vel[k,nptz-1-k]*dt))*u2[k+1,nptz-2-k])\n",
    "                                / (((1/(4*hx)) + (1/(4*hz)) + (np.sqrt(2))/(4*vel[k,nptz-1-k]*dt))))) for k in range(0,npmlx)]"
   ]
  },
  {
   "cell_type": "markdown",
   "metadata": {},
   "source": [
    "For the Higdon case we have the following *pdes* and *stencils*:"
   ]
  },
  {
   "cell_type": "code",
   "execution_count": 33,
   "metadata": {},
   "outputs": [],
   "source": [
    "if(habctype==3):\n",
    "\n",
    "    alpha1 = 0.0\n",
    "    alpha2 = np.pi/4\n",
    "    a1 = 0.5\n",
    "    b1 = 0.5\n",
    "    a2 = 0.5\n",
    "    b2 = 0.5\n",
    "\n",
    "    # Region B_{1}\n",
    "    gama111 = np.cos(alpha1)*(1-a1)*(1/dt)\n",
    "    gama121 = np.cos(alpha1)*(a1)*(1/dt)\n",
    "    gama131 = np.cos(alpha1)*(1-b1)*(1/hx)*vel[x,z]\n",
    "    gama141 = np.cos(alpha1)*(b1)*(1/hx)*vel[x,z]\n",
    "            \n",
    "    gama211 = np.cos(alpha2)*(1-a2)*(1/dt)\n",
    "    gama221 = np.cos(alpha2)*(a2)*(1/dt)\n",
    "    gama231 = np.cos(alpha2)*(1-b2)*(1/hx)*vel[x,z]\n",
    "    gama241 = np.cos(alpha2)*(b2)*(1/hx)*vel[x,z]\n",
    "            \n",
    "    c111 =  gama111 + gama131\n",
    "    c121 = -gama111 + gama141\n",
    "    c131 =  gama121 - gama131\n",
    "    c141 = -gama121 - gama141\n",
    "            \n",
    "    c211 =  gama211 + gama231\n",
    "    c221 = -gama211 + gama241\n",
    "    c231 =  gama221 - gama231\n",
    "    c241 = -gama221 - gama241\n",
    "\n",
    "    aux1      = ( u2[x,z]*(-c111*c221-c121*c211) + u3[x+1,z]*(-c111*c231-c131*c211) + u2[x+1,z]*(-c111*c241-c121*c231-c141*c211-c131*c221) \n",
    "                + u1[x,z]*(-c121*c221) + u1[x+1,z]*(-c121*c241-c141*c221) + u3[x+2,z]*(-c131*c231) +u2[x+2,z]*(-c131*c241-c141*c231)\n",
    "                + u1[x+2,z]*(-c141*c241))/(c111*c211)\n",
    "    pde1      = (1-weightsx[x,z])*u3[x,z] + weightsx[x,z]*aux1\n",
    "    stencil1  = Eq(u.forward,pde1,subdomain = grid.subdomains['d1'])\n",
    "\n",
    "    # Region B_{3}\n",
    "    gama112 = np.cos(alpha1)*(1-a1)*(1/dt)\n",
    "    gama122 = np.cos(alpha1)*(a1)*(1/dt)\n",
    "    gama132 = np.cos(alpha1)*(1-b1)*(1/hx)*vel[x,z]\n",
    "    gama142 = np.cos(alpha1)*(b1)*(1/hx)*vel[x,z]\n",
    "            \n",
    "    gama212 = np.cos(alpha2)*(1-a2)*(1/dt)\n",
    "    gama222 = np.cos(alpha2)*(a2)*(1/dt)\n",
    "    gama232 = np.cos(alpha2)*(1-b2)*(1/hx)*vel[x,z]\n",
    "    gama242 = np.cos(alpha2)*(b2)*(1/hx)*vel[x,z]\n",
    "            \n",
    "    c112 =  gama112 + gama132\n",
    "    c122 = -gama112 + gama142\n",
    "    c132 =  gama122 - gama132\n",
    "    c142 = -gama122 - gama142\n",
    "            \n",
    "    c212 =  gama212 + gama232\n",
    "    c222 = -gama212 + gama242\n",
    "    c232 =  gama222 - gama232\n",
    "    c242 = -gama222 - gama242\n",
    "\n",
    "    aux2      = ( u2[x,z]*(-c112*c222-c122*c212) + u3[x-1,z]*(-c112*c232-c132*c212) + u2[x-1,z]*(-c112*c242-c122*c232-c142*c212-c132*c222) \n",
    "                + u1[x,z]*(-c122*c222) + u1[x-1,z]*(-c122*c242-c142*c222) + u3[x-2,z]*(-c132*c232) +u2[x-2,z]*(-c132*c242-c142*c232)\n",
    "                + u1[x-2,z]*(-c142*c242))/(c112*c212)\n",
    "    pde2      = (1-weightsx[x,z])*u3[x,z] + weightsx[x,z]*aux2\n",
    "    stencil2  = Eq(u.forward,pde2,subdomain = grid.subdomains['d2'])\n",
    "\n",
    "    # Region B_{2}\n",
    "    gama113 = np.cos(alpha1)*(1-a1)*(1/dt)\n",
    "    gama123 = np.cos(alpha1)*(a1)*(1/dt)\n",
    "    gama133 = np.cos(alpha1)*(1-b1)*(1/hz)*vel[x,z]\n",
    "    gama143 = np.cos(alpha1)*(b1)*(1/hz)*vel[x,z]\n",
    "                \n",
    "    gama213 = np.cos(alpha2)*(1-a2)*(1/dt)\n",
    "    gama223 = np.cos(alpha2)*(a2)*(1/dt)\n",
    "    gama233 = np.cos(alpha2)*(1-b2)*(1/hz)*vel[x,z]\n",
    "    gama243 = np.cos(alpha2)*(b2)*(1/hz)*vel[x,z]\n",
    "            \n",
    "    c113 =  gama113 + gama133\n",
    "    c123 = -gama113 + gama143\n",
    "    c133 =  gama123 - gama133\n",
    "    c143 = -gama123 - gama143\n",
    "            \n",
    "    c213 =  gama213 + gama233\n",
    "    c223 = -gama213 + gama243\n",
    "    c233 =  gama223 - gama233\n",
    "    c243 = -gama223 - gama243\n",
    "\n",
    "    aux3      = ( u2[x,z]*(-c113*c223-c123*c213) + u3[x,z-1]*(-c113*c233-c133*c213) + u2[x,z-1]*(-c113*c243-c123*c233-c143*c213-c133*c223) \n",
    "                + u1[x,z]*(-c123*c223) + u1[x,z-1]*(-c123*c243-c143*c223) + u3[x,z-2]*(-c133*c233) +u2[x,z-2]*(-c133*c243-c143*c233)\n",
    "                + u1[x,z-2]*(-c143*c243))/(c113*c213)\n",
    "    pde3      = (1-weightsz[x,z])*u3[x,z] + weightsz[x,z]*aux3\n",
    "    stencil3  = Eq(u.forward,pde3,subdomain = grid.subdomains['d3'])"
   ]
  },
  {
   "cell_type": "markdown",
   "metadata": {},
   "source": [
    "The surface boundary conditions of the problem are the same as in the notebook <a href=\"1_introduction.ipynb\">Introduction to Acoustic Problem</a>. They are placed in the term *bc* and have the following form:"
   ]
  },
  {
   "cell_type": "code",
   "execution_count": 34,
   "metadata": {},
   "outputs": [],
   "source": [
    "bc  = [Eq(u[t+1,x,0],u[t+1,x,1])]"
   ]
  },
  {
   "cell_type": "markdown",
   "metadata": {},
   "source": [
    "We will then define the operator (*op*) that will join the acoustic equation, source term, boundary conditions and receivers.\n",
    "\n",
    "- 1. The acoustic wave equation in the *d0* region: *[stencil01];*\n",
    "- 2. Source term: *src_term;*\n",
    "- 3. Updating solutions over time: *[stencil01,stencil02];*\n",
    "- 4. The acoustic wave equation in the *d1*, *d2* e *d3* regions: *[stencil1,stencil2,stencil3];*\n",
    "- 5. The equation for red points for A2 method: *[stencil5,stencil4];*\n",
    "- 6. Boundry Conditions: *bc;*\n",
    "- 7. Receivers: *rec_term;*\n",
    "\n",
    "We then define two types of *op*:\n",
    "\n",
    "- The first *op* is for the cases A1 and Higdon;\n",
    "- The second *op* is for the case A2;\n",
    "\n",
    "The *ops* are constructed by the following commands:"
   ]
  },
  {
   "cell_type": "code",
   "execution_count": 35,
   "metadata": {},
   "outputs": [],
   "source": [
    "if(habctype!=2):\n",
    "    op  = Operator([stencil0] + src_term + [stencil01,stencil3,stencil02,stencil2,stencil1] + bc + rec_term,subs=grid.spacing_map)\n",
    "else:\n",
    "    op  = Operator([stencil0] + src_term + [stencil01,stencil3,stencil02,stencil2,stencil1,stencil02,stencil4,stencil5] + bc + rec_term,subs=grid.spacing_map)"
   ]
  },
  {
   "cell_type": "markdown",
   "metadata": {},
   "source": [
    "Initially:"
   ]
  },
  {
   "cell_type": "code",
   "execution_count": 36,
   "metadata": {},
   "outputs": [],
   "source": [
    "u.data[:]  = 0.\n",
    "u1.data[:] = 0.\n",
    "u2.data[:] = 0.\n",
    "u3.data[:] = 0."
   ]
  },
  {
   "cell_type": "markdown",
   "metadata": {},
   "source": [
    "We assign to *op* the number of time steps it must execute and the size of the time step in the local variables *time* and *dt*, respectively."
   ]
  },
  {
   "cell_type": "code",
   "execution_count": 37,
   "metadata": {},
   "outputs": [
    {
     "name": "stderr",
     "output_type": "stream",
     "text": [
      "Operator `Kernel` run in 0.05 s\n"
     ]
    },
    {
     "name": "stdout",
     "output_type": "stream",
     "text": [
      "Elapsed (after compilation) = 0.19286751747131348\n"
     ]
    }
   ],
   "source": [
    "start = tm.time()\n",
    "op(time=nt,dt=dt0)\n",
    "end   = tm.time()\n",
    "print(\"Elapsed (after compilation) = %s\" % (end - start))"
   ]
  },
  {
   "cell_type": "markdown",
   "metadata": {},
   "source": [
    "We view the result of the displacement field at the end time using the *graph2d* routine given by:"
   ]
  },
  {
   "cell_type": "code",
   "execution_count": 38,
   "metadata": {},
   "outputs": [],
   "source": [
    "def graph2d(U,i):    \n",
    "    plot.figure()\n",
    "    plot.figure(figsize=(16,8))\n",
    "    fscale =  1/10**(3)\n",
    "    x0pml  = x0 + npmlx*hxv\n",
    "    x1pml  = x1 - npmlx*hxv\n",
    "    z0pml  = z0            \n",
    "    z1pml  = z1 - npmlz*hzv\n",
    "    scale  = np.amax(U[npmlx:-npmlx,0:-npmlz])/50.\n",
    "    extent = [fscale*x0pml,fscale*x1pml,fscale*z1pml,fscale*z0pml]\n",
    "    fig = plot.imshow(np.transpose(U[npmlx:-npmlx,0:-npmlz]),vmin=-scale, vmax=scale, cmap=cm.gray, extent=extent)\n",
    "    plot.gca().xaxis.set_major_formatter(mticker.FormatStrFormatter('%.1f km'))\n",
    "    plot.gca().yaxis.set_major_formatter(mticker.FormatStrFormatter('%.1f km'))\n",
    "    plot.axis('equal')\n",
    "    if(i==1): plot.title('Map - Acoustic Problem with Devito - HABC A1')\n",
    "    if(i==2): plot.title('Map - Acoustic Problem with Devito - HABC A2')\n",
    "    if(i==3): plot.title('Map - Acoustic Problem with Devito - HABC Higdon')\n",
    "    plot.grid()\n",
    "    ax = plot.gca()\n",
    "    divider = make_axes_locatable(ax)\n",
    "    cax = divider.append_axes(\"right\", size=\"5%\", pad=0.05)\n",
    "    cbar = plot.colorbar(fig, cax=cax, format='%.2e')\n",
    "    cbar.set_label('Displacement [km]')\n",
    "    plot.draw()\n",
    "    plot.show()"
   ]
  },
  {
   "cell_type": "code",
   "execution_count": 39,
   "metadata": {},
   "outputs": [
    {
     "data": {
      "text/plain": [
       "<Figure size 576x432 with 0 Axes>"
      ]
     },
     "metadata": {},
     "output_type": "display_data"
    },
    {
     "data": {
      "image/png": "[encoded data removed]",
      "text/plain": [
       "<Figure size 1152x576 with 2 Axes>"
      ]
     },
     "metadata": {
      "needs_background": "light"
     },
     "output_type": "display_data"
    }
   ],
   "source": [
    "graph2d(u.data[0,:,:],habctype)"
   ]
  },
  {
   "cell_type": "markdown",
   "metadata": {},
   "source": [
    "We plot the Receivers shot records using the *graph2drec* routine."
   ]
  },
  {
   "cell_type": "code",
   "execution_count": 40,
   "metadata": {},
   "outputs": [],
   "source": [
    "def graph2drec(rec,i):    \n",
    "        plot.figure()\n",
    "        plot.figure(figsize=(16,8))\n",
    "        fscaled = 1/10**(3)\n",
    "        fscalet = 1/10**(3)\n",
    "        x0pml  = x0 + npmlx*hxv\n",
    "        x1pml  = x1 - npmlx*hxv\n",
    "        scale   = np.amax(rec[:,npmlx:-npmlx])/50.\n",
    "        extent  = [fscaled*x0pml,fscaled*x1pml, fscalet*tn, fscalet*t0]\n",
    "        fig = plot.imshow(rec[:,npmlx:-npmlx], vmin=-scale, vmax=scale, cmap=cm.gray, extent=extent)\n",
    "        plot.gca().xaxis.set_major_formatter(mticker.FormatStrFormatter('%.1f km'))\n",
    "        plot.gca().yaxis.set_major_formatter(mticker.FormatStrFormatter('%.1f s'))\n",
    "        plot.axis('equal')\n",
    "        if(i==1): plot.title('Receivers Signal Profile - Devito with HABC A1')\n",
    "        if(i==2): plot.title('Receivers Signal Profile - Devito with HABC A2')\n",
    "        if(i==3): plot.title('Receivers Signal Profile - Devito with HABC Higdon')\n",
    "        ax = plot.gca()\n",
    "        divider = make_axes_locatable(ax)\n",
    "        cax = divider.append_axes(\"right\", size=\"5%\", pad=0.05)\n",
    "        cbar = plot.colorbar(fig, cax=cax, format='%.2e')\n",
    "        plot.show()"
   ]
  },
  {
   "cell_type": "code",
   "execution_count": 41,
   "metadata": {},
   "outputs": [
    {
     "data": {
      "text/plain": [
       "<Figure size 576x432 with 0 Axes>"
      ]
     },
     "metadata": {},
     "output_type": "display_data"
    },
    {
     "data": {
      "image/png": "[encoded data removed]",
      "text/plain": [
       "<Figure size 1152x576 with 2 Axes>"
      ]
     },
     "metadata": {
      "needs_background": "light"
     },
     "output_type": "display_data"
    }
   ],
   "source": [
    "graph2drec(rec.data,habctype)"
   ]
  },
  {
   "cell_type": "code",
   "execution_count": 42,
   "metadata": {},
   "outputs": [],
   "source": [
    "assert np.isclose(np.linalg.norm(rec.data), 990, rtol=1)"
   ]
  },
  {
   "cell_type": "markdown",
   "metadata": {},
   "source": [
    "# 4.7 - Conclusions\n",
    "\n",
    "We have presented the HABC method for the acoustic wave equation, which can be used with any of the \n",
    "absorbing boundary conditions A1, A2 or Higdon. The notebook also include the possibility of using these boundary conditions alone, without being combined with the HABC. The user has the possibilty of testing several combinations of parameters and observe the effects in the absorption of spurious reflections on computational boundaries.\n",
    "\n",
    " The relevant references for the boundary conditions are furnished next."
   ]
  },
  {
   "cell_type": "markdown",
   "metadata": {},
   "source": [
    "## 4.8 - References\n",
    "\n",
    "- Clayton, R., & Engquist, B. (1977). \"Absorbing boundary conditions for acoustic and elastic wave equations\", Bulletin of the seismological society of America, 67(6), 1529-1540. <a href=\"https://pubs.geoscienceworld.org/ssa/bssa/article/67/6/1529/117727?casa_token=4TvjJGJDLQwAAAAA:Wm-3fVLn91tdsdHv9H6Ek7tTQf0jwXVSF10zPQL61lXtYZhaifz7jsHxqTvrHPufARzZC2-lDw\">Reference Link.</a>\n",
    "\n",
    "- Engquist, B., & Majda, A. (1979). \"Radiation boundary conditions for acoustic and elastic wave calculations,\" Communications on pure and applied mathematics, 32(3), 313-357. DOI: 10.1137/0727049.  <a href=\"https://epubs.siam.org/doi/abs/10.1137/0727049\">Reference Link.</a>\n",
    "\n",
    "- Higdon, R. L. (1987). \"Absorbing boundary conditions for difference approximations to the multidimensional wave equation,\" Mathematics of computation, 47(176), 437-459. DOI: 10.1090/S0025-5718-1986-0856696-4. <a href=\"https://www.ams.org/journals/mcom/1986-47-176/S0025-5718-1986-0856696-4/\">Reference Link.</a>\n",
    "\n",
    "- Higdon, Robert L. \"Numerical absorbing boundary conditions for the wave equation,\" Mathematics of computation, v. 49, n. 179, p. 65-90, 1987. DOI: 10.1090/S0025-5718-1987-0890254-1. <a href=\"https://www.ams.org/journals/mcom/1987-49-179/S0025-5718-1987-0890254-1/\">Reference Link.</a>\n",
    "\n",
    "- Liu, Y., & Sen, M. K. (2018). \"An improved hybrid absorbing boundary condition for wave equation modeling,\" Journal of Geophysics and Engineering, 15(6), 2602-2613. DOI: 10.1088/1742-2140/aadd31. <a href=\"https://academic.oup.com/jge/article/15/6/2602/5209803\">Reference Link.</a>"
   ]
  }
 ],
 "metadata": {
  "hide_input": false,
  "kernelspec": {
   "display_name": "Python 3",
   "language": "python",
   "name": "python3"
  },
  "language_info": {
   "codemirror_mode": {
    "name": "ipython",
    "version": 3
   },
   "file_extension": ".py",
   "mimetype": "text/x-python",
   "name": "python",
   "nbconvert_exporter": "python",
   "pygments_lexer": "ipython3",
   "version": "3.8.5"
  },
  "latex_envs": {
   "LaTeX_envs_menu_present": true,
   "autoclose": false,
   "autocomplete": true,
   "bibliofile": "biblio.bib",
   "cite_by": "apalike",
   "current_citInitial": 1,
   "eqLabelWithNumbers": true,
   "eqNumInitial": 1,
   "hotkeys": {
    "equation": "Ctrl-E",
    "itemize": "Ctrl-I"
   },
   "labels_anchors": false,
   "latex_user_defs": false,
   "report_style_numbering": false,
   "user_envs_cfg": false
  },
  "widgets": {
   "state": {},
   "version": "1.1.2"
  }
 },
 "nbformat": 4,
 "nbformat_minor": 1
}
