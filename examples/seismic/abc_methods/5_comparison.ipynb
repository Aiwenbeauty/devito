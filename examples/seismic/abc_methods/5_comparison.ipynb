{
 "cells": [
  {
   "cell_type": "markdown",
   "metadata": {
    "collapsed": true
   },
   "source": [
    "## 5 - Comparison of the several methods to reduce wave reflections "
   ]
  },
  {
   "cell_type": "markdown",
   "metadata": {},
   "source": [
    "# 5.1 - The comparison framework\n",
    "\n",
    "In this final notebook we present comparisons of the methods presented in notebooks <a href=\"1_introduction.ipynb\">Introduction to Acoustic Problem</a>, <a href=\"2_damping.ipynb\">Damping</a>, <a href=\"3_pml.ipynb\">PML</a> e <a href=\"4_habc.ipynb\">HABC</a>. \n",
    "\n",
    "The comparisons are based on the *Standard Test* employed in all notebooks. As a reference solution, that will be considered as the \"correct\" solution when measuring errors, we take a solution computed on a larger domain (we extend the domain in the left, right and bottom part, extending the velocity field with constant values, equal to the values the field has at the original left, right and bottom, respectively). The new depth in the reference run is $3.0Km$ and the domain is also wider, we employ a domain from $-1.5 Km$ to $2.5 Km$. For running the reference run we use PML boundary conditions (20 grid points in the extension zone). The comparisons are made only in the domain of the  *Standard Test*. Due to the extended domain of the reference run, we should not expect to see spurious reflections in its results in the time of simulation.  We will make comparison of the wave displacements as well as of the shot records in the receivers. The methods are referred as:\n",
    "\n",
    "- Reference: Reference solution generated with PML and an extended domain.\n",
    "- Non-Absorbing: Solution generated with the proposed method on the notebook <a href=\"1_introduction.ipynb\">Introduction to Acoustic Problem</a>.\n",
    "- Damping: Solution generated with the proposed method on the notebook <a href=\"2_damping.ipynb\">Damping</a>.\n",
    "- PML: Solution generated with the proposed method on the notebook <a href=\"3_pml.ipynb\">PML</a>.\n",
    "- HABC A1: Solution generated with the proposed method on the notebook <a href=\"4_habc.ipynb\">HABC</a> with *habctype=1* and *habcw=2*, that is, A1 with non-linear weights.\n",
    "- HABC A2: Solution generated with the proposed method on the notebook <a href=\"4_habc.ipynb\">HABC</a> with *habctype=2* and *habcw=2*, that is, A2 with non-linear weights.\n",
    "- HABC Higdon: Solution generated with the proposed method on the notebook <a href=\"4_habc.ipynb\">HABC</a> with *habctype=3* and *habcw=2*, that is, Higdon with non-linear weights.\n",
    "\n",
    "**Observation:** In the errors analysis 5.3 and 5.4 the values of errors are in the *log* scale."
   ]
  },
  {
   "cell_type": "markdown",
   "metadata": {},
   "source": [
    "# 5.2 - Visual Analysis - Reflections on Boundaries\n",
    "\n",
    "The first analysis presented regards the reflections on the bottom of the domain $\\Omega$. We choose the time $T\\approx 0.8s$ where the wave founds the bondaries and change the value of velocity. We can see that the reference results show the wavefront leaving the domain (entering in the extended domain) with no apparent reflection of the wave. \n",
    "\n",
    "The Non-Absorbing solution (with pure Dirichlet null conditions) shows a total reflection of the wavefront. Among the methods presented, Damping has the lowest absorption power. The methods PML and HABC show, in a visual analysis, a much better absorption capacity.\n",
    "\n",
    "We show the reference solution and differences with respect to it of the solutions obtained with the considered schemes in the figure below.\n",
    "\n",
    "<img src='plot1_08s.png' width=1600 height=1600>\n",
    "\n",
    "Moreover, we include the differences with respect to it of the receivers too.\n",
    "\n",
    "<img src='plot4.png' width=1600 height=1600>"
   ]
  },
  {
   "cell_type": "markdown",
   "metadata": {},
   "source": [
    "# 5.3 - Quantitative Analysis - Maximum Relative Error of the displacement over the Simulation time\n",
    "\n",
    "We have compared the quadratic value of the relative error (with respect to the reference solution) of the displacement along the simulation. In this case PML lead to results at least as good as those of HABC A1, HABC A2 and HABC Higdon. Damping is clearly worse. In all graphics the results with PML are included, which makes easier to compare the other schemes against it.\n",
    "\n",
    "<img src='plot5_norm2.png' width=1600 height=1600>"
   ]
  },
  {
   "cell_type": "markdown",
   "metadata": {},
   "source": [
    "# 5.4 - Quantitative Analysis - Maximum Relative Error at the Receivers during  the Simulation\n",
    "\n",
    "We now present the quadratic relative errors computed at the receivers throughout the simulation. We see that PML and HABC perform well, leading to results as good or even better than Damping and Non-Absorbing. PML's results are again included in all graphics.\n",
    "\n",
    "<img src='plot6_norm2.png' width=1600 height=1600>"
   ]
  },
  {
   "cell_type": "markdown",
   "metadata": {},
   "source": [
    "# 5.5 - Conclusions\n",
    "\n",
    "Based on the comparisons we carried out, we conclude that\n",
    "\n",
    "- The most effective methods in reducing the spurious reflections are PML and HABC. Their results in terms of accuracy (with respect to a reference solution) are similar, making these methods quite interesting for applications. Notice that PML is very popular, but the Hybrid methods offer an interesting alternative to it. Which one to choose will depend on the computational performance of the methods on a given platform. In this sense, the Devito implementations could be of great help to have optimized codes, including their parallelization, with no extra effort, besides getting portability among different computer platforms.\n",
    "\n",
    "- Schemes as Damping or HABC A1, although simpler and potentially cheaper, are not so effective in reducing reflections, what make their pratical use somewhat more limited."
   ]
  }
 ],
 "metadata": {
  "hide_input": false,
  "kernelspec": {
   "display_name": "Python 3",
   "language": "python",
   "name": "python3"
  },
  "language_info": {
   "codemirror_mode": {
    "name": "ipython",
    "version": 3
   },
   "file_extension": ".py",
   "mimetype": "text/x-python",
   "name": "python",
   "nbconvert_exporter": "python",
   "pygments_lexer": "ipython3",
   "version": "3.8.3"
  },
  "latex_envs": {
   "LaTeX_envs_menu_present": true,
   "autoclose": false,
   "autocomplete": true,
   "bibliofile": "biblio.bib",
   "cite_by": "apalike",
   "current_citInitial": 1,
   "eqLabelWithNumbers": true,
   "eqNumInitial": 1,
   "hotkeys": {
    "equation": "Ctrl-E",
    "itemize": "Ctrl-I"
   },
   "labels_anchors": false,
   "latex_user_defs": false,
   "report_style_numbering": false,
   "user_envs_cfg": false
  },
  "widgets": {
   "state": {},
   "version": "1.1.2"
  }
 },
 "nbformat": 4,
 "nbformat_minor": 1
}
