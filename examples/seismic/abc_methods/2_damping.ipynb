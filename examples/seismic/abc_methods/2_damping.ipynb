{
 "cells": [
  {
   "cell_type": "markdown",
   "metadata": {
    "collapsed": true
   },
   "source": [
    "# 2 - Damping"
   ]
  },
  {
   "cell_type": "markdown",
   "metadata": {},
   "source": [
    "# 2.1 - Introduction\n",
    "\n",
    "In this notebook we describe a simple method for reduction of reflections at the computational boundaries of the domain $\\Omega$ when we simulate the acoustic wave equation. This method, called *Damping*, has been proposed by Sochaki. It adds a damping term, modifying the original wave equation at a boundary layer. We saw in the notebook <a href=\"1_introduction.ipynb\">Introduction to Acoustic Problem</a> that the (artificial) wave reflections on the computational boundaries lead to a very noisy solution of the acoustic problem. \n",
    "\n",
    "We describe this method in the next Sections, omitting information already discussed in the notebook <a href=\"1_introduction.ipynb\">Introduction to Acoustic Problem</a>, highlighting  only the new elements necessary to apply Damping."
   ]
  },
  {
   "cell_type": "markdown",
   "metadata": {},
   "source": [
    "# 2.2 - Acoustic Problem with Damping\n",
    "\n",
    "We define an extension of the spatial domain $\\Omega=\\left[x_{I}-L_{x},x_{F}+L_{x}\\right] \\times\\left[z_{I},z_{F}+L_{z}\\right]$, in which we added an *absorption region* to the previous spatial domain\n",
    "$\\Omega_{0}=\\left[x_{I},x_{F}\\right]\\times\\left[z_{I},z_{F}\\right]$.  \n",
    "The *absorption region* is composed by two bands of length $L_{x}$ at the beginning and end of the domain in the direction $x$ and of a band of length $L_{z}$ at the end of the domain in the $z$ direction. Again, $\\partial\\Omega$ denotes the boundary of $\\Omega$. The figure below shows the extended domain $\\Omega$, with the absorption region highlighted in blue.\n",
    "\n",
    "<img src='domain2.png' width=500>\n",
    "\n",
    "The damping acoustic problem equation is given by:\n",
    "\n",
    "\\begin{equation}\n",
    "u_{tt}(x,z,t)+c^2(x,z)\\zeta(x,z)u_t(x,z,t)-c^2(x,z)\\Delta(u(x,z,t))=c^2(x,z)f(x,z,t),\n",
    "\\end{equation}\n",
    "\n",
    "where $u(x,z,t)$, $f(x,z,t)$ and $c(x,z)$ are as before. The wave equation has been modified by the introduction of the damping term $c^2(x,z)\\zeta(x,z)u_t(x,z,t)$, where $\\zeta$ is different from zero only in the absorption region, growing smoothly along the absorption bands from zero to its maximum at the outer boundary. The actual form of\n",
    "$\\zeta$ used in this notebook will be given ahead. We still use the same initial conditions\n",
    "\n",
    "\\begin{equation}\n",
    "u(x,z,0) = 0.0 \\hspace{.5cm} \\mbox{ and } \\hspace{.5cm} u_t(x,z,0)= 0.0.\n",
    "\\end{equation}\n",
    "\n",
    "and Dirichlet null boundary conditions at the (outer) bottom and lateral boundaries. At the surface we\n",
    "use a zero Neumman boundary condition.\n",
    "\n",
    "The source term and the velocity field are defined as before."
   ]
  },
  {
   "cell_type": "markdown",
   "metadata": {},
   "source": [
    "# 2.3 - Finite Difference Operators and Discretization of Spatial and Temporal Domains\n",
    "\n",
    "The only difference with respect to the discretization used in the notebook <a href=\"1_introduction.ipynb\">Introduction to Acoustic Problem</a> is the extra damping term. The temporal derivative of $u$ is approximated by a centered difference:\n",
    "$$ u_t(x_i,z_j,t_k) = \\frac{u_{i,j,k+1}-u_{i,j,k-1}}{2\\Delta t} $$. All the other terms are discretized as before.\n"
   ]
  },
  {
   "cell_type": "markdown",
   "metadata": {},
   "source": [
    "# 2.4 - Standard Problem\n",
    "\n",
    "Redeeming the Standard Problem definitions discussed on the notebook <a href=\"1_introduction.ipynb\">Introduction to Acoustic Problem</a> we have that:\n",
    "\n",
    "- $x_{I}$ =  0.0 Km;\n",
    "- $x_{F}$ =  1.0 Km = 1000 m;\n",
    "- $z_{I}$ =  0.0 Km;\n",
    "- $z_{F}$ =  1.0 Km = 1000 m;\n",
    "- $L_x$ and $L_z$ will be defined ahead;\n",
    "\n",
    "The spatial discretization parameters are given by:\n",
    "- $\\Delta x$ = 0.01 km = 10m;\n",
    "- $\\Delta z$ = 0.01 km = 10m;\n",
    "\n",
    "Let's consider a $I$ the time domain with the following limitations:\n",
    "\n",
    "- $t_{I}$ = 0 s = 0 ms;\n",
    "- $t_{F}$ = 1 s = 1000 ms;\n",
    "\n",
    "The temporal discretization parameters are given by:\n",
    "\n",
    "- $\\Delta t$ $\\approx$ 0.0016 s = 1.6 ms;\n",
    "- $NT$ = 626.\n",
    "\n",
    "With respect to the $f(x,z,t)$ external force term, we will consider a Ricker source with the following properties:\n",
    "\n",
    "- Position at $x:$ $\\bar{x} = 500 m =  0.5 Km$;\n",
    "- Position at $z:$ $\\bar{z} =  10 m = 0.01 Km$;\n",
    "- Peak frequency: $f_{0} = 10 Hz = 0.01 Khz$;\n",
    "\n",
    "The graph of $f(\\bar{x},\\bar{z},t)$ is given in the figure below.\n",
    "\n",
    "<img src='source.png' width=800>\n",
    "\n",
    "We will use a velocity profile $c(x, z)$ with the following properties:\n",
    "\n",
    "- Minimum propagation velocity: $v_{min} = 1500 m/s = 1,5 Km/s$;\n",
    "- Maximum propagation velocity: $v_{max} = 2500 m/s = 2,5 Km/s$;\n",
    "\n",
    "The figure below shows this velocity profile.\n",
    "\n",
    "<img src='velocity.png' width=800 height=800>\n",
    "\n",
    "We introduce receivers along the $x$ direction, that is, at all discrete points between $0.0$ Km and $1.0$ Km , at depth $z=0.01$ Km to generate the seismogram."
   ]
  },
  {
   "cell_type": "markdown",
   "metadata": {},
   "source": [
    "# 2.5 - Damping Functions\n",
    "\n",
    "Sochaki proposed various forms for the damping function $\\zeta$, including linear, cubic or exponential functions. In general, the damping functions have a similar characteristic: they are zero in the \"interior\" domain $\\Omega_{0}$ and increase toward the outer boundary $\\partial\\Omega$. \n",
    "\n",
    "Our particular damping function will be chosen as follows.\n",
    " We define the pair of functions $\\zeta_{1}(x,z)$ and $\\zeta_{2}(x,z)$ given, respectively, by:\n",
    "\n",
    "\\begin{equation}\n",
    "\\zeta_{1}(x,z)=\\left\\{ \\begin{array}{ll}\n",
    "0, & \\textrm{if $x\\in \\left(x_{I},x_{F}\\right)$,}\\\\ \\bar{\\zeta}_{1}(x,z)\\left(\\displaystyle\\frac{\\vert x-x_{I} \\vert}{L_{x}}-\\displaystyle\\frac{1}{2\\pi}\\sin\\left(\\displaystyle\\frac{2\\pi\\vert x-x_{I} \\vert}{L_{x}}\\right)\\right) , & \\textrm{if $x_{I}-L_{x}\\leq x \\leq x_{I}$,}\\\\ \\bar{\\zeta}_{1}(x,z)\\left(\\displaystyle\\frac{\\vert x-x_{F} \\vert}{L_{x}}-\\displaystyle\\frac{1}{2\\pi}\\sin\\left(\\displaystyle\\frac{2\\pi\\vert x-x_{F} \\vert}{L_{x}}\\right)\\right) , & \\textrm{if $x_{F}\\leq x \\leq x_{F}+L_{x}$.}\\end{array}\\right.\n",
    "\\end{equation}  \n",
    "\n",
    "\\begin{equation}\n",
    "\\zeta_{2}(x,z)=\\left\\{ \\begin{array}{ll}\n",
    "0, & \\textrm{if $z\\in \\left(z_{I},z_{F}\\right)$,} \\\\ \\bar{\\zeta}_{2}(x,z)\\left(\\displaystyle\\frac{\\vert z-z_{F} \\vert}{L_{z}}-\\displaystyle\\frac{1}{2\\pi}\\sin\\left(\\displaystyle\\frac{2\\pi\\vert z-z_{F} \\vert}{L_{z}}\\right)\\right) , & \\textrm{if $z_{F}\\leq z \\leq z_{F}+L_{z}$.}\\end{array}\\right.\n",
    "\\end{equation}  \n",
    "\n",
    "Thus, we define the function $\\zeta(x,z)$ as being the following function:\n",
    "\n",
    "\\begin{equation}\n",
    "\\zeta(x,z) = \\displaystyle\\frac{1}{v_{max}}\\left(\\displaystyle\\frac{\\zeta_{1}(x,z)}{\\Delta x}+\\displaystyle\\frac{\\zeta_{2}(x,z)}{\\Delta z} \\right) ,\n",
    "\\end{equation}\n",
    "\n",
    "where $v_{max}$denotes the maximum velocity of propagation of $c(x,z)$. Below we display the shape of the function $\\zeta_1(x,z)$ with $\\bar{\\zeta_{1}}(x,z)=0.26$ at the left band of the domain. It is similar at the other ones.\n",
    "\n",
    "<img src='dampx1dl.png' width=800 height=800>\n",
    "<img src='dampx.png' width=800 height=800>\n",
    "<img src='dampy.png' width=800 height=800>"
   ]
  },
  {
   "cell_type": "markdown",
   "metadata": {},
   "source": [
    "# 2.6 - Numerical Simulations\n",
    "\n",
    "In the numerical simulations we import the following Python and Devito packages:"
   ]
  },
  {
   "cell_type": "code",
   "execution_count": 1,
   "metadata": {},
   "outputs": [],
   "source": [
    "import numpy                   as np\n",
    "import matplotlib.pyplot       as plot\n",
    "import math                    as mt\n",
    "import matplotlib.ticker       as mticker    \n",
    "from   mpl_toolkits.axes_grid1 import make_axes_locatable\n",
    "from   matplotlib              import cm\n",
    "import time                    as tm\n",
    "from   devito import *\n",
    "%matplotlib inline"
   ]
  },
  {
   "cell_type": "markdown",
   "metadata": {},
   "source": [
    "From Devito's library of examples we import the following structures:"
   ]
  },
  {
   "cell_type": "code",
   "execution_count": 2,
   "metadata": {},
   "outputs": [],
   "source": [
    "from   examples.seismic        import TimeAxis\n",
    "from   examples.seismic        import RickerSource\n",
    "from   examples.seismic        import Receiver"
   ]
  },
  {
   "cell_type": "markdown",
   "metadata": {},
   "source": [
    "The mesh parameters define the domain $\\Omega_{0}$. The absorption region will be included bellow."
   ]
  },
  {
   "cell_type": "code",
   "execution_count": 3,
   "metadata": {},
   "outputs": [],
   "source": [
    "nptx   =  101\n",
    "nptz   =  101\n",
    "x0     =  0.\n",
    "x1     =  1000. \n",
    "compx  =  x1-x0\n",
    "z0     =  0.\n",
    "z1     =  1000.\n",
    "compz  =  z1-z0;\n",
    "hxv    =  (x1-x0)/(nptx-1)\n",
    "hzv    =  (z1-z0)/(nptz-1)"
   ]
  },
  {
   "cell_type": "markdown",
   "metadata": {},
   "source": [
    "**Observation:** In this code we need to work with symbolic values and the real values of $\\Delta x$ and $\\Delta z$, then the numerica values of $\\Delta x$ and $\\Delta z$ are represented by *hxv* and *hzv*, respectively. The symbolic values of $\\Delta x$ and $\\Delta z$ will be given after.\n",
    "\n",
    "In this case, we need to define the size of the bands $L_{x}$ and $L_{z}$ that extend the domain $\\Omega_{0}$ for $\\Omega$. The code that we will implement will build the values $L_{x}$ and $L_{z}$ from choosing a certain amount of points in each direction. Without loss of generality, we say that the size $L_{x}$ is such that:\n",
    "\n",
    "- $L_{x}$ = npmlx*$\\Delta x$;\n",
    "- *0<npmlx<nptx;*\n",
    "\n",
    "Similarly, we have $L_{z}$ such that:\n",
    "\n",
    "- $L_{z}$ = npmlz*$\\Delta z$;\n",
    "- *0<npmlz<nptz*; \n",
    "\n",
    "So, we can explicitly define the lengths $L_{x}$ and $L_{z}$ depending on the number of points *npmlx* and *npmlz*. Thus, we choose these values as being:"
   ]
  },
  {
   "cell_type": "code",
   "execution_count": 4,
   "metadata": {},
   "outputs": [],
   "source": [
    "npmlx  = 20\n",
    "npmlz  = 20"
   ]
  },
  {
   "cell_type": "markdown",
   "metadata": {},
   "source": [
    "And we define $L_{x}$ and $L_{z}$ as beeing:"
   ]
  },
  {
   "cell_type": "code",
   "execution_count": 5,
   "metadata": {},
   "outputs": [],
   "source": [
    "lx = npmlx*hxv\n",
    "lz = npmlz*hzv"
   ]
  },
  {
   "cell_type": "markdown",
   "metadata": {},
   "source": [
    "Thus, from the *nptx* points, the first and the last *npmlx* points are in the absorption region of the *x* direction. Similarly, from the *nptz* points, the last *npmlz* points are in the absorption region of the *z* direction. Considering the construction of *grid*, we also have the following elements:"
   ]
  },
  {
   "cell_type": "code",
   "execution_count": 6,
   "metadata": {},
   "outputs": [],
   "source": [
    "nptx    =  nptx + 2*npmlx\n",
    "nptz    =  nptz + 1*npmlz\n",
    "x0      =  x0 - hxv*npmlx\n",
    "x1      =  x1 + hxv*npmlx\n",
    "compx   =  x1-x0\n",
    "z0      =  z0\n",
    "z1      =  z1 + hzv*npmlz\n",
    "compz   =  z1-z0\n",
    "origin  = (x0,z0)\n",
    "extent  = (compx,compz)\n",
    "shape   = (nptx,nptz)\n",
    "spacing = (hxv,hzv)"
   ]
  },
  {
   "cell_type": "markdown",
   "metadata": {},
   "source": [
    "The $\\zeta(x,z)$ function is non zero only in the blue region in the figure that represents the domain. In this way, the wave equation can be divided into 2 situations:\n",
    "\n",
    "- In the region in blue:\n",
    "\n",
    "\\begin{equation}\n",
    "u_{tt}(x,z,t)+c^2(x,z)\\zeta(x,z)u_t(x,z,t)-c^2(x,z)^\\Delta(u(x,z,t))=c^2(x,z)f(x,z,t),\n",
    "\\end{equation}\n",
    "\n",
    "- In the white region:\n",
    "\n",
    "\\begin{equation}\n",
    "u_{tt}(x,z,t)-c^2(x,z)^\\Delta(u(x,z,t))=c^2(x,z)f(x,z,t),\n",
    "\\end{equation}\n",
    "\n",
    "For this reason, we use the structure of the *subdomains* to represent the white region and the blue region.\n",
    "\n",
    "**Observation:** Note that we can describe the blue region in different ways, that is, the way we choose here is not the only possible discretization for that region.\n",
    "\n",
    "First, we define the white region, naming this region as *d0*, which is defined by the following pairs of points $(x,z)$:\n",
    "\n",
    "- $x\\in\\{npmlx,nptx-npmlx\\}$ and $z\\in\\{0,nptz-npmlz\\}$.\n",
    "\n",
    "In the language of *subdomains* *d0  it is written as:"
   ]
  },
  {
   "cell_type": "code",
   "execution_count": 7,
   "metadata": {},
   "outputs": [],
   "source": [
    "class d0domain(SubDomain):\n",
    "    name = 'd0'\n",
    "    def define(self, dimensions):\n",
    "        x, z = dimensions\n",
    "        return {x: ('middle', npmlx, npmlx), z: ('middle', 0, npmlz)}\n",
    "d0_domain = d0domain()"
   ]
  },
  {
   "cell_type": "markdown",
   "metadata": {},
   "source": [
    "The blue region will be the union of the following regions:\n",
    "\n",
    "- *d1* represents the left range in the direction *x*, where the pairs $(x,z)$ satisfy: $x\\in\\{0,npmlx\\}$ and $z\\in\\{0,nptz\\}$;\n",
    "- *d2* represents the rigth range in the direction *x*, where the pairs $(x,z)$ satisfy: $x\\in\\{nptx-npmlx,nptx\\}$ and $z\\in\\{0,nptz\\}$;\n",
    "- *d3* represents the left range in the direction *y*, where the pairs $(x,z)$ satisfy: $x\\in\\{npmlx,nptx-npmlx\\}$ and $z\\in\\{nptz-npmlz,nptz\\}$;\n",
    "\n",
    "Thus, the regions *d1*, *d2* and *d3* are described as follows in the language of *subdomains*:"
   ]
  },
  {
   "cell_type": "code",
   "execution_count": 8,
   "metadata": {},
   "outputs": [],
   "source": [
    "class d1domain(SubDomain):\n",
    "    name = 'd1'\n",
    "    def define(self, dimensions):\n",
    "        x, z = dimensions\n",
    "        return {x: ('left',npmlx), z: z}\n",
    "d1_domain = d1domain()\n",
    "\n",
    "class d2domain(SubDomain):\n",
    "    name = 'd2'\n",
    "    def define(self, dimensions):\n",
    "        x, z = dimensions\n",
    "        return {x: ('right',npmlx), z: z}\n",
    "d2_domain = d2domain()\n",
    "\n",
    "class d3domain(SubDomain):\n",
    "    name = 'd3'\n",
    "    def define(self, dimensions):\n",
    "        x, z = dimensions\n",
    "        return {x: ('middle', npmlx, npmlx), z: ('right',npmlz)}\n",
    "d3_domain = d3domain()"
   ]
  },
  {
   "cell_type": "markdown",
   "metadata": {},
   "source": [
    "The figure below represents the division of domains that we did previously:\n",
    "\n",
    "<img src='domain2.png' width=500>\n",
    "\n",
    "The advantage of dividing into regions is that the equations will be calculated where they actually operate and thus we gain computational efficiency, as we decrease the number of operations to be done. After defining the spatial parameters and constructing the *subdomains*, we set the *spatial grid* with the following command:"
   ]
  },
  {
   "cell_type": "code",
   "execution_count": 9,
   "metadata": {},
   "outputs": [],
   "source": [
    "grid = Grid(origin=origin, extent=extent, shape=shape, subdomains=(d0_domain,d1_domain,d2_domain,d3_domain), dtype=np.float64)"
   ]
  },
  {
   "cell_type": "markdown",
   "metadata": {},
   "source": [
    "Again, we use a velocity field given by a binary file. The reading and scaling of the velocity field for the Devito work units is done with the following commands:"
   ]
  },
  {
   "cell_type": "code",
   "execution_count": 10,
   "metadata": {},
   "outputs": [],
   "source": [
    "v0 = np.zeros((nptx,nptz))                     \n",
    "p0 = 0    \n",
    "p1 = int((1/2)*nptz)\n",
    "p2 = nptz  \n",
    "v0[0:nptx,p0:p1] = 1.5\n",
    "v0[0:nptx,p1:p2] = 2.5"
   ]
  },
  {
   "cell_type": "markdown",
   "metadata": {},
   "source": [
    "Time parameters are defined and constructed by the following sequence of commands:"
   ]
  },
  {
   "cell_type": "code",
   "execution_count": 11,
   "metadata": {},
   "outputs": [],
   "source": [
    "t0    = 0.\n",
    "tn    = 1000.   \n",
    "CFL   = 0.4\n",
    "vmax  = np.amax(v0) \n",
    "dtmax = np.float64((min(hxv,hzv)*CFL)/(vmax))\n",
    "ntmax = int((tn-t0)/dtmax)+1\n",
    "dt0   = np.float64((tn-t0)/ntmax)"
   ]
  },
  {
   "cell_type": "markdown",
   "metadata": {},
   "source": [
    "With the temporal parameters, we generate the *temporal grid* with *TimeAxis* as follows:"
   ]
  },
  {
   "cell_type": "code",
   "execution_count": 12,
   "metadata": {},
   "outputs": [],
   "source": [
    "time_range = TimeAxis(start=t0,stop=tn,num=ntmax+1)\n",
    "nt         = time_range.num - 1"
   ]
  },
  {
   "cell_type": "markdown",
   "metadata": {},
   "source": [
    "The symbolic values associated with the spatial and temporal grids that are used in the composition of the equations are given by:"
   ]
  },
  {
   "cell_type": "code",
   "execution_count": 13,
   "metadata": {},
   "outputs": [],
   "source": [
    "(hx,hz) = grid.spacing_map  \n",
    "(x, z)  = grid.dimensions     \n",
    "t       = grid.stepping_dim\n",
    "dt      = grid.stepping_dim.spacing"
   ]
  },
  {
   "cell_type": "markdown",
   "metadata": {},
   "source": [
    "We chose a single Ricker source, whose frequency is $ 0.005Khz $. This source is positioned at $\\bar{x}$ = 35150m and $\\bar{z}$ = 32m. We then defined the following variables that represents our choice:"
   ]
  },
  {
   "cell_type": "code",
   "execution_count": 14,
   "metadata": {},
   "outputs": [],
   "source": [
    "f0     = 0.01\n",
    "nfonte = 1\n",
    "xposf  = 0.5*(compx-2*npmlx*hxv)\n",
    "zposf  = hzv"
   ]
  },
  {
   "cell_type": "markdown",
   "metadata": {},
   "source": [
    "As we know, Ricker's source is generated by the *RickerSource* command. Using the parameters listed above, we generate and position the Ricker source with the following sequence of commands:"
   ]
  },
  {
   "cell_type": "code",
   "execution_count": 15,
   "metadata": {},
   "outputs": [],
   "source": [
    "src = RickerSource(name='src',grid=grid,f0=f0,npoint=nfonte,time_range=time_range,staggered=NODE,dtype=np.float64)\n",
    "src.coordinates.data[:, 0] = xposf\n",
    "src.coordinates.data[:, 1] = zposf"
   ]
  },
  {
   "cell_type": "markdown",
   "metadata": {},
   "source": [
    "With respect to receivers, the number of receivers is the same number of discrete points in the $x$ direction. So, we position these receivers along the direction $x$, at height $\\bar{z}$ = 32m. In this way, our variables are chosen as:"
   ]
  },
  {
   "cell_type": "code",
   "execution_count": 16,
   "metadata": {},
   "outputs": [],
   "source": [
    "nrec   = nptx\n",
    "nxpos  = np.linspace(x0,x1,nrec)\n",
    "nzpos  = hzv"
   ]
  },
  {
   "cell_type": "markdown",
   "metadata": {},
   "source": [
    "As we know, receivers are generated by the command *Receiver*. Thus, we use the parameters listed above and using the *Receiver* command, we create and position the receivers:"
   ]
  },
  {
   "cell_type": "code",
   "execution_count": 17,
   "metadata": {},
   "outputs": [],
   "source": [
    "rec = Receiver(name='rec',grid=grid,npoint=nrec,time_range=time_range,staggered=NODE,dtype=np.float64)\n",
    "rec.coordinates.data[:, 0] = nxpos\n",
    "rec.coordinates.data[:, 1] = nzpos"
   ]
  },
  {
   "cell_type": "markdown",
   "metadata": {},
   "source": [
    "The displacement field *u* is a second order field in time and space, which uses points of type *non-staggered*. In this way, we construct the displacement field *u* with the command *TimeFunction*:"
   ]
  },
  {
   "cell_type": "code",
   "execution_count": 18,
   "metadata": {},
   "outputs": [],
   "source": [
    "u = TimeFunction(name=\"u\",grid=grid,time_order=2,space_order=2,staggered=NODE,dtype=np.float64)"
   ]
  },
  {
   "cell_type": "markdown",
   "metadata": {},
   "source": [
    "The velocity field, the source term and receivers are defined as in the previous notebook: "
   ]
  },
  {
   "cell_type": "code",
   "execution_count": 19,
   "metadata": {},
   "outputs": [],
   "source": [
    "vel0 = Function(name=\"vel0\",grid=grid,space_order=2,staggered=NODE,dtype=np.float64)\n",
    "vel0.data[:,:] = v0[:,:]"
   ]
  },
  {
   "cell_type": "code",
   "execution_count": 20,
   "metadata": {},
   "outputs": [],
   "source": [
    "src_term = src.inject(field=u.forward,expr=src*dt**2*vel0**2)"
   ]
  },
  {
   "cell_type": "code",
   "execution_count": 21,
   "metadata": {},
   "outputs": [],
   "source": [
    "rec_term = rec.interpolate(expr=u)"
   ]
  },
  {
   "cell_type": "markdown",
   "metadata": {},
   "source": [
    "The next step is to create the sequence of structures that reproduce the function $\\zeta(x,z)$. Initially, we define the region $\\Omega_{0}$, since the damping function uses the limits of that region. We previously defined the limits of the $\\Omega$ region to be *x0*, *x1*, *z0* and *z1*. Now, we define the limits of the region $\\Omega_{0}$ as: *x0pml* and *x1pml* in the direction $x$ and *z0pml* and *z1pml* in the direction $z$. These points satisfy the following relationships with the lengths $L_{x}$ and $L_{z}$:\n",
    "\n",
    "- x0pml = x0 + $L_{x}$;\n",
    "- x1pml = x1 - $L_{x}$;\n",
    "- z0pml = z0;\n",
    "- z1pml = z1 - $L_{z}$;\n",
    "\n",
    "In terms of program variables, we have the following definitions:"
   ]
  },
  {
   "cell_type": "code",
   "execution_count": 22,
   "metadata": {},
   "outputs": [],
   "source": [
    "x0pml  = x0 + npmlx*hxv \n",
    "x1pml  = x1 - npmlx*hxv \n",
    "z0pml  = z0            \n",
    "z1pml  = z1 - npmlz*hzv "
   ]
  },
  {
   "cell_type": "markdown",
   "metadata": {},
   "source": [
    "Having built the $\\Omega$ limits, we then create a function, which we will call *fdamp*, which computationally represents the $\\zeta(x,z)$ function. In the *fdamp* function, we highlight the following elements:\n",
    "\n",
    "- *quibar* represents a constant choice for $\\bar{\\zeta_{1}}(x,z)$ and $\\bar{\\zeta_{2}}(x,z)$, satisfying $\\bar{\\zeta_{1}}(x,z)=\\bar{\\zeta_{2}}(x,z)$;\n",
    "- *adamp* denotes the function $\\zeta_{1}(x,z)$;\n",
    "- *bdamp* denotes the function $\\zeta_{2}(x,z)$;\n",
    "- The terms *a* and *b* locate the $(x,z)$ points that are passed as an argument to the *fdamp* function.\n",
    "\n",
    "The *fdamp* function is defined using the following structure:"
   ]
  },
  {
   "cell_type": "code",
   "execution_count": 23,
   "metadata": {},
   "outputs": [],
   "source": [
    "def fdamp(x,z):\n",
    "\n",
    "    quibar  = 1.5*np.log(1.0/0.001)/(40)\n",
    "    cte     = 1./vmax\n",
    "   \n",
    "    a = np.where(x<=x0pml,(np.abs(x-x0pml)/lx),np.where(x>=x1pml,(np.abs(x-x1pml)/lx),0.))\n",
    "    b = np.where(z<=z0pml,(np.abs(z-z0pml)/lz),np.where(z>=z1pml,(np.abs(z-z1pml)/lz),0.))\n",
    "    adamp = quibar*(a-(1./(2.*np.pi))*np.sin(2.*np.pi*a))/hxv\n",
    "    bdamp = quibar*(b-(1./(2.*np.pi))*np.sin(2.*np.pi*b))/hzv\n",
    "    fdamp = cte*(adamp+bdamp)\n",
    "\n",
    "    return fdamp"
   ]
  },
  {
   "cell_type": "markdown",
   "metadata": {},
   "source": [
    "Created the damping function, we define an array that loads the damping information in the entire domain $\\Omega$. The objective is to assign this array to a *Function* and use it in the composition of the equations. To generate this array, we will use the function *generatemdamp*. In summary, this function generates a *non-staggered* grid and evaluates that grid in the *fdamp* function. At the end, we generate an array that we call *D0* and which will be responsible for providing the damping value at each of the $\\Omega$ points. The *generatemdamp* function is expressed as follows:"
   ]
  },
  {
   "cell_type": "code",
   "execution_count": 24,
   "metadata": {},
   "outputs": [],
   "source": [
    "def generatemdamp():\n",
    "    \n",
    "    X0     = np.linspace(x0,x1,nptx)    \n",
    "    Z0     = np.linspace(z0,z1,nptz)    \n",
    "    X0grid,Z0grid = np.meshgrid(X0,Z0)  \n",
    "    D0 = np.zeros((nptx,nptz))         \n",
    "    D0 = np.transpose(fdamp(X0grid,Z0grid))\n",
    "             \n",
    "    return D0"
   ]
  },
  {
   "cell_type": "markdown",
   "metadata": {},
   "source": [
    "Built the function *generatemdamp* we will execute it using the command:"
   ]
  },
  {
   "cell_type": "code",
   "execution_count": 25,
   "metadata": {},
   "outputs": [],
   "source": [
    "D0 = generatemdamp();"
   ]
  },
  {
   "cell_type": "markdown",
   "metadata": {},
   "source": [
    "Like the velocity function $c(x,z)$, the damping function $\\zeta(x,z)$ is constant in time. Therefore, the damping function will be a second-order *Function* in space, which uses points of the non-staggered type and which we will evaluate with the D0 array. The symbolic name *damp* will be assigned to this field."
   ]
  },
  {
   "cell_type": "code",
   "execution_count": 26,
   "metadata": {},
   "outputs": [],
   "source": [
    "damp = Function(name=\"damp\",grid=grid,space_order=2,staggered=NODE,dtype=np.float64)\n",
    "damp.data[:,:] = D0"
   ]
  },
  {
   "cell_type": "markdown",
   "metadata": {},
   "source": [
    "The expressions for the acoustic equation with damping can be separeted between the white and blue regions.\n",
    "\n",
    "Translating these expressions in terms of an *eq* that can be inserted in a Devito code, we have that in the white region the equation takes the form:\n",
    "\n",
    "- eq1 = u.dt2 - vel0 * vel0 * u.laplace,\n",
    "\n",
    "and in the blue region we have the following equation:\n",
    "\n",
    "- eq2 = u.dt2 + vel0 * vel0 * damp * u.dtc - vel0 * vel0 * u.laplace.\n",
    "\n",
    "Here *u.dtc* represents the centered derivative with respect to the variable $t$ for the field *u*. Then, we set the two pdes for the two regions\n"
   ]
  },
  {
   "cell_type": "code",
   "execution_count": 27,
   "metadata": {},
   "outputs": [],
   "source": [
    "pde0 = Eq(u.dt2 - u.laplace*vel0*vel0)\n",
    "pde1 = Eq(u.dt2 - u.laplace*vel0*vel0 + vel0*vel0*damp*u.dtc)"
   ]
  },
  {
   "cell_type": "markdown",
   "metadata": {},
   "source": [
    "As we did on the notebook <a href=\"introduction.ipynb\">Introduction to Acoustic Problem</a>, we define the *stencils* for each of the *pdes* that we created previously. In the case of *pde0* it is defined only in the white region, which is represented by *subdomain* *d0*. Then, we define the *stencil0* which resolves *pde0* in *d0* and it is defined as follows:"
   ]
  },
  {
   "cell_type": "code",
   "execution_count": 28,
   "metadata": {},
   "outputs": [],
   "source": [
    "stencil0 =  Eq(u.forward, solve(pde0,u.forward),subdomain = grid.subdomains['d0'])"
   ]
  },
  {
   "cell_type": "markdown",
   "metadata": {},
   "source": [
    "The *pde1* will be applied in the blue region, the union of the subdomains *d1*, *d2* and *d3*. In this way, we create a vector called *subds* that comprises these three *subdomains*, and we are ready to set the corresponding stencil"
   ]
  },
  {
   "cell_type": "code",
   "execution_count": 29,
   "metadata": {},
   "outputs": [],
   "source": [
    "subds = ['d1','d2','d3']"
   ]
  },
  {
   "cell_type": "code",
   "execution_count": 30,
   "metadata": {},
   "outputs": [],
   "source": [
    "stencil1 = [Eq(u.forward, solve(pde1,u.forward),subdomain = grid.subdomains[subds[i]]) for i in range(0,len(subds))]"
   ]
  },
  {
   "cell_type": "markdown",
   "metadata": {},
   "source": [
    "The boundary conditions of the problem are kept the same as the notebook <a href=\"1_introduction.ipynb\">Introduction to Acoustic Problem</a>. So these are placed in the term *bc* and have the following form:"
   ]
  },
  {
   "cell_type": "code",
   "execution_count": 31,
   "metadata": {},
   "outputs": [],
   "source": [
    "bc  = [Eq(u[t+1,0,z],0.),Eq(u[t+1,nptx-1,z],0.),Eq(u[t+1,x,nptz-1],0.),Eq(u[t+1,x,0],u[t+1,x,1])]"
   ]
  },
  {
   "cell_type": "markdown",
   "metadata": {},
   "source": [
    "We then define the operator (*op*) that join the acoustic equation, source term, boundary conditions and receivers.\n",
    "\n",
    "- 1. The acoustic wave equation in the *d0* region: *[stencil0];*\n",
    "- 2. The acoustic wave equation in the *d1*, *d2* and *d3* region: *[stencil1];*\n",
    "- 3. Source term: *src_term;*\n",
    "- 4. Boundary conditions: *bc;*\n",
    "- 5. Receivers: *rec_term;*\n"
   ]
  },
  {
   "cell_type": "code",
   "execution_count": 32,
   "metadata": {},
   "outputs": [],
   "source": [
    "op  = Operator([stencil0,stencil1] + src_term + bc + rec_term,subs=grid.spacing_map)"
   ]
  },
  {
   "cell_type": "markdown",
   "metadata": {},
   "source": [
    "We reset the field *u*:"
   ]
  },
  {
   "cell_type": "code",
   "execution_count": 33,
   "metadata": {},
   "outputs": [],
   "source": [
    "u.data[:] = 0."
   ]
  },
  {
   "cell_type": "markdown",
   "metadata": {},
   "source": [
    "We assign in *op* the number of time steps it must execute and the size of the time step in the local variables *time* and *dt*, respectively. "
   ]
  },
  {
   "cell_type": "code",
   "execution_count": 34,
   "metadata": {},
   "outputs": [
    {
     "name": "stderr",
     "output_type": "stream",
     "text": [
      "Operator `Kernel` run in 0.02 s\n"
     ]
    },
    {
     "name": "stdout",
     "output_type": "stream",
     "text": [
      "Elapsed (after compilation) = 0.15604686737060547\n"
     ]
    }
   ],
   "source": [
    "start = tm.time()\n",
    "op(time=nt,dt=dt0)\n",
    "end   = tm.time()\n",
    "print(\"Elapsed (after compilation) = %s\" % (end - start))"
   ]
  },
  {
   "cell_type": "markdown",
   "metadata": {},
   "source": [
    "To view the result of the displacement field at the end time, we use the *graph2d* routine given by:"
   ]
  },
  {
   "cell_type": "code",
   "execution_count": 35,
   "metadata": {},
   "outputs": [],
   "source": [
    "def graph2d(U):    \n",
    "    plot.figure()\n",
    "    plot.figure(figsize=(16,8))\n",
    "    fscale =  1/10**(3)\n",
    "    scale  = np.amax(U[npmlx:-npmlx,0:-npmlz])/50.\n",
    "    extent = [fscale*x0pml,fscale*x1pml,fscale*z1pml,fscale*z0pml]\n",
    "    fig = plot.imshow(np.transpose(U[npmlx:-npmlx,0:-npmlz]),vmin=-scale, vmax=scale, cmap=cm.gray, extent=extent)\n",
    "    plot.gca().xaxis.set_major_formatter(mticker.FormatStrFormatter('%.1f km'))\n",
    "    plot.gca().yaxis.set_major_formatter(mticker.FormatStrFormatter('%.1f km'))\n",
    "    plot.axis('equal')\n",
    "    plot.title('Map - Acoustic Problem with Devito')\n",
    "    plot.grid()\n",
    "    ax = plot.gca()\n",
    "    divider = make_axes_locatable(ax)\n",
    "    cax = divider.append_axes(\"right\", size=\"5%\", pad=0.05)\n",
    "    cbar = plot.colorbar(fig, cax=cax, format='%.2e')\n",
    "    cbar.set_label('Displacement [km]')\n",
    "    plot.draw()\n",
    "    plot.show()"
   ]
  },
  {
   "cell_type": "code",
   "execution_count": 36,
   "metadata": {},
   "outputs": [
    {
     "data": {
      "text/plain": [
       "<Figure size 576x432 with 0 Axes>"
      ]
     },
     "metadata": {},
     "output_type": "display_data"
    },
    {
     "data": {
      "image/png": "[encoded data removed]",
      "text/plain": [
       "<Figure size 1152x576 with 2 Axes>"
      ]
     },
     "metadata": {
      "needs_background": "light"
     },
     "output_type": "display_data"
    }
   ],
   "source": [
    "graph2d(u.data[0,:,:])"
   ]
  },
  {
   "cell_type": "markdown",
   "metadata": {},
   "source": [
    "Note that the solution obtained here has a reduction in noise when compared to the results displayed on the notebook <a href=\"1_introduction.ipynb\">Introduction to Acoustic Problem</a>. To plot the result of the Receivers we use the *graph2drec* routine."
   ]
  },
  {
   "cell_type": "code",
   "execution_count": 37,
   "metadata": {},
   "outputs": [],
   "source": [
    "def graph2drec(rec):    \n",
    "        plot.figure()\n",
    "        plot.figure(figsize=(16,8))\n",
    "        fscaled = 1/10**(3)\n",
    "        fscalet = 1/10**(3)\n",
    "        scale   = np.amax(rec[:,npmlx:-npmlx])/50.\n",
    "        extent  = [fscaled*x0pml,fscaled*x1pml, fscalet*tn, fscalet*t0]\n",
    "        fig = plot.imshow(rec[:,npmlx:-npmlx], vmin=-scale, vmax=scale, cmap=cm.gray, extent=extent)\n",
    "        plot.gca().xaxis.set_major_formatter(mticker.FormatStrFormatter('%.1f km'))\n",
    "        plot.gca().yaxis.set_major_formatter(mticker.FormatStrFormatter('%.1f s'))\n",
    "        plot.axis('equal')\n",
    "        plot.title('Receivers Signal Profile with Damping - Devito')\n",
    "        ax = plot.gca()\n",
    "        divider = make_axes_locatable(ax)\n",
    "        cax = divider.append_axes(\"right\", size=\"5%\", pad=0.05)\n",
    "        cbar = plot.colorbar(fig, cax=cax, format='%.2e')\n",
    "        plot.show()"
   ]
  },
  {
   "cell_type": "code",
   "execution_count": 38,
   "metadata": {},
   "outputs": [
    {
     "data": {
      "text/plain": [
       "<Figure size 576x432 with 0 Axes>"
      ]
     },
     "metadata": {},
     "output_type": "display_data"
    },
    {
     "data": {
      "image/png": "[encoded data removed]",
      "text/plain": [
       "<Figure size 1152x576 with 2 Axes>"
      ]
     },
     "metadata": {
      "needs_background": "light"
     },
     "output_type": "display_data"
    }
   ],
   "source": [
    "graph2drec(rec.data)"
   ]
  },
  {
   "cell_type": "markdown",
   "metadata": {},
   "source": [
    "# 2.6 - Conclusions\n",
    "\n",
    "\n",
    "- The damping strategy is a simple way to reduce artificial wave reflections coming from the computational boundaries, leading to a solution with less noise at the end of the simulation, when compared to the results of the notebook <a href=\"1_introduction.ipynb\">Introduction to Acoustic Problem</a>. However, the level of artificial reflections on the boundaries is still high. In the following notebooks we present methods which are more effective."
   ]
  },
  {
   "cell_type": "markdown",
   "metadata": {},
   "source": [
    "# 2.7 - Reference\n",
    "\n",
    "- Sochaki, J., Kubichek, R., George, J., Fletcher, W.R. and Smithson, S. (1987). \"Absorbing boundary conditions and surface waves,\" Geophysics, 52(1), 60-71. DOI: 10.1190/1.1442241. <a href=\"https://library.seg.org/doi/abs/10.1190/1.1442241\">Reference Link.</a>"
   ]
  }
 ],
 "metadata": {
  "hide_input": false,
  "kernelspec": {
   "display_name": "Python 3",
   "language": "python",
   "name": "python3"
  },
  "language_info": {
   "codemirror_mode": {
    "name": "ipython",
    "version": 3
   },
   "file_extension": ".py",
   "mimetype": "text/x-python",
   "name": "python",
   "nbconvert_exporter": "python",
   "pygments_lexer": "ipython3",
   "version": "3.8.3"
  },
  "latex_envs": {
   "LaTeX_envs_menu_present": true,
   "autoclose": false,
   "autocomplete": true,
   "bibliofile": "biblio.bib",
   "cite_by": "apalike",
   "current_citInitial": 1,
   "eqLabelWithNumbers": true,
   "eqNumInitial": 1,
   "hotkeys": {
    "equation": "Ctrl-E",
    "itemize": "Ctrl-I"
   },
   "labels_anchors": false,
   "latex_user_defs": false,
   "report_style_numbering": false,
   "user_envs_cfg": false
  },
  "widgets": {
   "state": {},
   "version": "1.1.2"
  }
 },
 "nbformat": 4,
 "nbformat_minor": 1
}
